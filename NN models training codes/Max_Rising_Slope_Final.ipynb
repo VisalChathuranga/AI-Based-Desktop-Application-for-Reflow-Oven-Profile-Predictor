{
 "cells": [
  {
   "cell_type": "code",
   "execution_count": 2,
   "metadata": {},
   "outputs": [
    {
     "name": "stdout",
     "output_type": "stream",
     "text": [
      "Trial 100 Complete [00h 01m 20s]\n",
      "val_loss: 0.026820141822099686\n",
      "\n",
      "Best val_loss So Far: 0.022430596873164177\n",
      "Total elapsed time: 02h 58m 50s\n"
     ]
    },
    {
     "name": "stderr",
     "output_type": "stream",
     "text": [
      "c:\\Users\\ASM PROCESS ENGINE\\AppData\\Local\\Programs\\Python\\Python312\\Lib\\site-packages\\keras\\src\\saving\\saving_lib.py:713: UserWarning: Skipping variable loading for optimizer 'adamw', because it has 2 variables whereas the saved optimizer has 38 variables. \n",
      "  saveable.load_own_variables(weights_store.get(inner_path))\n"
     ]
    },
    {
     "data": {
      "text/html": [
       "<pre style=\"white-space:pre;overflow-x:auto;line-height:normal;font-family:Menlo,'DejaVu Sans Mono',consolas,'Courier New',monospace\"><span style=\"font-weight: bold\">Model: \"sequential\"</span>\n",
       "</pre>\n"
      ],
      "text/plain": [
       "\u001b[1mModel: \"sequential\"\u001b[0m\n"
      ]
     },
     "metadata": {},
     "output_type": "display_data"
    },
    {
     "data": {
      "text/html": [
       "<pre style=\"white-space:pre;overflow-x:auto;line-height:normal;font-family:Menlo,'DejaVu Sans Mono',consolas,'Courier New',monospace\">┏━━━━━━━━━━━━━━━━━━━━━━━━━━━━━━━━━┳━━━━━━━━━━━━━━━━━━━━━━━━┳━━━━━━━━━━━━━━━┓\n",
       "┃<span style=\"font-weight: bold\"> Layer (type)                    </span>┃<span style=\"font-weight: bold\"> Output Shape           </span>┃<span style=\"font-weight: bold\">       Param # </span>┃\n",
       "┡━━━━━━━━━━━━━━━━━━━━━━━━━━━━━━━━━╇━━━━━━━━━━━━━━━━━━━━━━━━╇━━━━━━━━━━━━━━━┩\n",
       "│ dense (<span style=\"color: #0087ff; text-decoration-color: #0087ff\">Dense</span>)                   │ (<span style=\"color: #00d7ff; text-decoration-color: #00d7ff\">None</span>, <span style=\"color: #00af00; text-decoration-color: #00af00\">464</span>)            │         <span style=\"color: #00af00; text-decoration-color: #00af00\">9,744</span> │\n",
       "├─────────────────────────────────┼────────────────────────┼───────────────┤\n",
       "│ batch_normalization             │ (<span style=\"color: #00d7ff; text-decoration-color: #00d7ff\">None</span>, <span style=\"color: #00af00; text-decoration-color: #00af00\">464</span>)            │         <span style=\"color: #00af00; text-decoration-color: #00af00\">1,856</span> │\n",
       "│ (<span style=\"color: #0087ff; text-decoration-color: #0087ff\">BatchNormalization</span>)            │                        │               │\n",
       "├─────────────────────────────────┼────────────────────────┼───────────────┤\n",
       "│ dropout (<span style=\"color: #0087ff; text-decoration-color: #0087ff\">Dropout</span>)               │ (<span style=\"color: #00d7ff; text-decoration-color: #00d7ff\">None</span>, <span style=\"color: #00af00; text-decoration-color: #00af00\">464</span>)            │             <span style=\"color: #00af00; text-decoration-color: #00af00\">0</span> │\n",
       "├─────────────────────────────────┼────────────────────────┼───────────────┤\n",
       "│ dense_1 (<span style=\"color: #0087ff; text-decoration-color: #0087ff\">Dense</span>)                 │ (<span style=\"color: #00d7ff; text-decoration-color: #00d7ff\">None</span>, <span style=\"color: #00af00; text-decoration-color: #00af00\">944</span>)            │       <span style=\"color: #00af00; text-decoration-color: #00af00\">438,960</span> │\n",
       "├─────────────────────────────────┼────────────────────────┼───────────────┤\n",
       "│ batch_normalization_1           │ (<span style=\"color: #00d7ff; text-decoration-color: #00d7ff\">None</span>, <span style=\"color: #00af00; text-decoration-color: #00af00\">944</span>)            │         <span style=\"color: #00af00; text-decoration-color: #00af00\">3,776</span> │\n",
       "│ (<span style=\"color: #0087ff; text-decoration-color: #0087ff\">BatchNormalization</span>)            │                        │               │\n",
       "├─────────────────────────────────┼────────────────────────┼───────────────┤\n",
       "│ dropout_1 (<span style=\"color: #0087ff; text-decoration-color: #0087ff\">Dropout</span>)             │ (<span style=\"color: #00d7ff; text-decoration-color: #00d7ff\">None</span>, <span style=\"color: #00af00; text-decoration-color: #00af00\">944</span>)            │             <span style=\"color: #00af00; text-decoration-color: #00af00\">0</span> │\n",
       "├─────────────────────────────────┼────────────────────────┼───────────────┤\n",
       "│ dense_2 (<span style=\"color: #0087ff; text-decoration-color: #0087ff\">Dense</span>)                 │ (<span style=\"color: #00d7ff; text-decoration-color: #00d7ff\">None</span>, <span style=\"color: #00af00; text-decoration-color: #00af00\">848</span>)            │       <span style=\"color: #00af00; text-decoration-color: #00af00\">801,360</span> │\n",
       "├─────────────────────────────────┼────────────────────────┼───────────────┤\n",
       "│ batch_normalization_2           │ (<span style=\"color: #00d7ff; text-decoration-color: #00d7ff\">None</span>, <span style=\"color: #00af00; text-decoration-color: #00af00\">848</span>)            │         <span style=\"color: #00af00; text-decoration-color: #00af00\">3,392</span> │\n",
       "│ (<span style=\"color: #0087ff; text-decoration-color: #0087ff\">BatchNormalization</span>)            │                        │               │\n",
       "├─────────────────────────────────┼────────────────────────┼───────────────┤\n",
       "│ dropout_2 (<span style=\"color: #0087ff; text-decoration-color: #0087ff\">Dropout</span>)             │ (<span style=\"color: #00d7ff; text-decoration-color: #00d7ff\">None</span>, <span style=\"color: #00af00; text-decoration-color: #00af00\">848</span>)            │             <span style=\"color: #00af00; text-decoration-color: #00af00\">0</span> │\n",
       "├─────────────────────────────────┼────────────────────────┼───────────────┤\n",
       "│ dense_3 (<span style=\"color: #0087ff; text-decoration-color: #0087ff\">Dense</span>)                 │ (<span style=\"color: #00d7ff; text-decoration-color: #00d7ff\">None</span>, <span style=\"color: #00af00; text-decoration-color: #00af00\">752</span>)            │       <span style=\"color: #00af00; text-decoration-color: #00af00\">638,448</span> │\n",
       "├─────────────────────────────────┼────────────────────────┼───────────────┤\n",
       "│ batch_normalization_3           │ (<span style=\"color: #00d7ff; text-decoration-color: #00d7ff\">None</span>, <span style=\"color: #00af00; text-decoration-color: #00af00\">752</span>)            │         <span style=\"color: #00af00; text-decoration-color: #00af00\">3,008</span> │\n",
       "│ (<span style=\"color: #0087ff; text-decoration-color: #0087ff\">BatchNormalization</span>)            │                        │               │\n",
       "├─────────────────────────────────┼────────────────────────┼───────────────┤\n",
       "│ dropout_3 (<span style=\"color: #0087ff; text-decoration-color: #0087ff\">Dropout</span>)             │ (<span style=\"color: #00d7ff; text-decoration-color: #00d7ff\">None</span>, <span style=\"color: #00af00; text-decoration-color: #00af00\">752</span>)            │             <span style=\"color: #00af00; text-decoration-color: #00af00\">0</span> │\n",
       "├─────────────────────────────────┼────────────────────────┼───────────────┤\n",
       "│ dense_4 (<span style=\"color: #0087ff; text-decoration-color: #0087ff\">Dense</span>)                 │ (<span style=\"color: #00d7ff; text-decoration-color: #00d7ff\">None</span>, <span style=\"color: #00af00; text-decoration-color: #00af00\">1</span>)              │           <span style=\"color: #00af00; text-decoration-color: #00af00\">753</span> │\n",
       "└─────────────────────────────────┴────────────────────────┴───────────────┘\n",
       "</pre>\n"
      ],
      "text/plain": [
       "┏━━━━━━━━━━━━━━━━━━━━━━━━━━━━━━━━━┳━━━━━━━━━━━━━━━━━━━━━━━━┳━━━━━━━━━━━━━━━┓\n",
       "┃\u001b[1m \u001b[0m\u001b[1mLayer (type)                   \u001b[0m\u001b[1m \u001b[0m┃\u001b[1m \u001b[0m\u001b[1mOutput Shape          \u001b[0m\u001b[1m \u001b[0m┃\u001b[1m \u001b[0m\u001b[1m      Param #\u001b[0m\u001b[1m \u001b[0m┃\n",
       "┡━━━━━━━━━━━━━━━━━━━━━━━━━━━━━━━━━╇━━━━━━━━━━━━━━━━━━━━━━━━╇━━━━━━━━━━━━━━━┩\n",
       "│ dense (\u001b[38;5;33mDense\u001b[0m)                   │ (\u001b[38;5;45mNone\u001b[0m, \u001b[38;5;34m464\u001b[0m)            │         \u001b[38;5;34m9,744\u001b[0m │\n",
       "├─────────────────────────────────┼────────────────────────┼───────────────┤\n",
       "│ batch_normalization             │ (\u001b[38;5;45mNone\u001b[0m, \u001b[38;5;34m464\u001b[0m)            │         \u001b[38;5;34m1,856\u001b[0m │\n",
       "│ (\u001b[38;5;33mBatchNormalization\u001b[0m)            │                        │               │\n",
       "├─────────────────────────────────┼────────────────────────┼───────────────┤\n",
       "│ dropout (\u001b[38;5;33mDropout\u001b[0m)               │ (\u001b[38;5;45mNone\u001b[0m, \u001b[38;5;34m464\u001b[0m)            │             \u001b[38;5;34m0\u001b[0m │\n",
       "├─────────────────────────────────┼────────────────────────┼───────────────┤\n",
       "│ dense_1 (\u001b[38;5;33mDense\u001b[0m)                 │ (\u001b[38;5;45mNone\u001b[0m, \u001b[38;5;34m944\u001b[0m)            │       \u001b[38;5;34m438,960\u001b[0m │\n",
       "├─────────────────────────────────┼────────────────────────┼───────────────┤\n",
       "│ batch_normalization_1           │ (\u001b[38;5;45mNone\u001b[0m, \u001b[38;5;34m944\u001b[0m)            │         \u001b[38;5;34m3,776\u001b[0m │\n",
       "│ (\u001b[38;5;33mBatchNormalization\u001b[0m)            │                        │               │\n",
       "├─────────────────────────────────┼────────────────────────┼───────────────┤\n",
       "│ dropout_1 (\u001b[38;5;33mDropout\u001b[0m)             │ (\u001b[38;5;45mNone\u001b[0m, \u001b[38;5;34m944\u001b[0m)            │             \u001b[38;5;34m0\u001b[0m │\n",
       "├─────────────────────────────────┼────────────────────────┼───────────────┤\n",
       "│ dense_2 (\u001b[38;5;33mDense\u001b[0m)                 │ (\u001b[38;5;45mNone\u001b[0m, \u001b[38;5;34m848\u001b[0m)            │       \u001b[38;5;34m801,360\u001b[0m │\n",
       "├─────────────────────────────────┼────────────────────────┼───────────────┤\n",
       "│ batch_normalization_2           │ (\u001b[38;5;45mNone\u001b[0m, \u001b[38;5;34m848\u001b[0m)            │         \u001b[38;5;34m3,392\u001b[0m │\n",
       "│ (\u001b[38;5;33mBatchNormalization\u001b[0m)            │                        │               │\n",
       "├─────────────────────────────────┼────────────────────────┼───────────────┤\n",
       "│ dropout_2 (\u001b[38;5;33mDropout\u001b[0m)             │ (\u001b[38;5;45mNone\u001b[0m, \u001b[38;5;34m848\u001b[0m)            │             \u001b[38;5;34m0\u001b[0m │\n",
       "├─────────────────────────────────┼────────────────────────┼───────────────┤\n",
       "│ dense_3 (\u001b[38;5;33mDense\u001b[0m)                 │ (\u001b[38;5;45mNone\u001b[0m, \u001b[38;5;34m752\u001b[0m)            │       \u001b[38;5;34m638,448\u001b[0m │\n",
       "├─────────────────────────────────┼────────────────────────┼───────────────┤\n",
       "│ batch_normalization_3           │ (\u001b[38;5;45mNone\u001b[0m, \u001b[38;5;34m752\u001b[0m)            │         \u001b[38;5;34m3,008\u001b[0m │\n",
       "│ (\u001b[38;5;33mBatchNormalization\u001b[0m)            │                        │               │\n",
       "├─────────────────────────────────┼────────────────────────┼───────────────┤\n",
       "│ dropout_3 (\u001b[38;5;33mDropout\u001b[0m)             │ (\u001b[38;5;45mNone\u001b[0m, \u001b[38;5;34m752\u001b[0m)            │             \u001b[38;5;34m0\u001b[0m │\n",
       "├─────────────────────────────────┼────────────────────────┼───────────────┤\n",
       "│ dense_4 (\u001b[38;5;33mDense\u001b[0m)                 │ (\u001b[38;5;45mNone\u001b[0m, \u001b[38;5;34m1\u001b[0m)              │           \u001b[38;5;34m753\u001b[0m │\n",
       "└─────────────────────────────────┴────────────────────────┴───────────────┘\n"
      ]
     },
     "metadata": {},
     "output_type": "display_data"
    },
    {
     "data": {
      "text/html": [
       "<pre style=\"white-space:pre;overflow-x:auto;line-height:normal;font-family:Menlo,'DejaVu Sans Mono',consolas,'Courier New',monospace\"><span style=\"font-weight: bold\"> Total params: </span><span style=\"color: #00af00; text-decoration-color: #00af00\">1,901,297</span> (7.25 MB)\n",
       "</pre>\n"
      ],
      "text/plain": [
       "\u001b[1m Total params: \u001b[0m\u001b[38;5;34m1,901,297\u001b[0m (7.25 MB)\n"
      ]
     },
     "metadata": {},
     "output_type": "display_data"
    },
    {
     "data": {
      "text/html": [
       "<pre style=\"white-space:pre;overflow-x:auto;line-height:normal;font-family:Menlo,'DejaVu Sans Mono',consolas,'Courier New',monospace\"><span style=\"font-weight: bold\"> Trainable params: </span><span style=\"color: #00af00; text-decoration-color: #00af00\">1,895,281</span> (7.23 MB)\n",
       "</pre>\n"
      ],
      "text/plain": [
       "\u001b[1m Trainable params: \u001b[0m\u001b[38;5;34m1,895,281\u001b[0m (7.23 MB)\n"
      ]
     },
     "metadata": {},
     "output_type": "display_data"
    },
    {
     "data": {
      "text/html": [
       "<pre style=\"white-space:pre;overflow-x:auto;line-height:normal;font-family:Menlo,'DejaVu Sans Mono',consolas,'Courier New',monospace\"><span style=\"font-weight: bold\"> Non-trainable params: </span><span style=\"color: #00af00; text-decoration-color: #00af00\">6,016</span> (23.50 KB)\n",
       "</pre>\n"
      ],
      "text/plain": [
       "\u001b[1m Non-trainable params: \u001b[0m\u001b[38;5;34m6,016\u001b[0m (23.50 KB)\n"
      ]
     },
     "metadata": {},
     "output_type": "display_data"
    },
    {
     "name": "stdout",
     "output_type": "stream",
     "text": [
      "\u001b[1m1/1\u001b[0m \u001b[32m━━━━━━━━━━━━━━━━━━━━\u001b[0m\u001b[37m\u001b[0m \u001b[1m1s\u001b[0m 1s/step - loss: 0.0196\n",
      "Best model test loss: 0.019604315981268883\n",
      "\u001b[1m1/1\u001b[0m \u001b[32m━━━━━━━━━━━━━━━━━━━━\u001b[0m\u001b[37m\u001b[0m \u001b[1m1s\u001b[0m 583ms/step\n",
      "Predicted: [2.203758], Actual: [2.27]\n",
      "Predicted: [2.0210474], Actual: [1.79]\n",
      "Predicted: [2.2035668], Actual: [2.22]\n",
      "Predicted: [2.2615016], Actual: [1.83]\n",
      "Predicted: [2.1904252], Actual: [2.08]\n",
      "Predicted: [2.1543522], Actual: [2.4]\n",
      "Predicted: [2.2469723], Actual: [2.22]\n",
      "Predicted: [1.9611148], Actual: [1.72]\n",
      "Predicted: [2.2329009], Actual: [2.26]\n",
      "Predicted: [2.2061517], Actual: [2.25]\n",
      "Best hyperparameters: {'num_layers': 4, 'units_layer_0': 464, 'activation_layer_0': 'tanh', 'dropout_layer_0': 0.1, 'units_layer_1': 944, 'activation_layer_1': 'tanh', 'dropout_layer_1': 0.4, 'optimizer': 'adamw', 'learning_rate': 0.007767123385994891, 'units_layer_2': 848, 'activation_layer_2': 'tanh', 'dropout_layer_2': 0.1, 'units_layer_3': 752, 'activation_layer_3': 'tanh', 'dropout_layer_3': 0.5, 'units_layer_4': 688, 'activation_layer_4': 'relu', 'dropout_layer_4': 0.4, 'units_layer_5': 240, 'activation_layer_5': 'relu', 'dropout_layer_5': 0.1, 'units_layer_6': 432, 'activation_layer_6': 'tanh', 'dropout_layer_6': 0.4, 'units_layer_7': 208, 'activation_layer_7': 'tanh', 'dropout_layer_7': 0.1}\n"
     ]
    }
   ],
   "source": [
    "\"\"\"import tensorflow as tf\n",
    "from tensorflow.keras.models import Sequential\n",
    "from tensorflow.keras.layers import Dense, Dropout, Input, BatchNormalization\n",
    "from tensorflow.keras.optimizers import Adam,RMSprop,AdamW\n",
    "from keras_tuner import RandomSearch\n",
    "from sklearn.model_selection import train_test_split\n",
    "from sklearn.preprocessing import MinMaxScaler\n",
    "from keras_tuner import RandomSearch\n",
    "from tensorflow.keras.callbacks import Callback,EarlyStopping, ReduceLROnPlateau\n",
    "from sklearn.metrics import r2_score\n",
    "import matplotlib.pyplot as plt\n",
    "\n",
    "import pandas as pd\n",
    "\n",
    "# Load the dataset\n",
    "file_path = 'D:/aaaaaa/exported_dataset.xlsx'\n",
    "df = pd.read_excel(file_path)\n",
    "\n",
    "# Prepare features (X) and labels (Y)\n",
    "X = df.drop(['Max Rising Slope', 'Soak Time', 'Reflow Time', 'Peak Temp'], axis=1)  # Drop target columns from features\n",
    "Y = df[['Max Rising Slope']]  # Multi-output labels\n",
    "\n",
    "# Initialize MinMaxScaler\n",
    "scaler_X = MinMaxScaler()\n",
    "scaler_Y = MinMaxScaler()\n",
    "\n",
    "# Scale the features and labels\n",
    "X_scaled = scaler_X.fit_transform(X)\n",
    "Y_scaled = scaler_Y.fit_transform(Y)\n",
    "\n",
    "# Split the dataset into train and test sets\n",
    "X_train, X_test, Y_train, Y_test = train_test_split(X_scaled, Y_scaled, test_size=0.1, random_state=42)\n",
    "\n",
    "# Custom callback to track R² score\n",
    "class R2ScoreCallback(Callback):\n",
    "    def __init__(self, X_val, Y_val):\n",
    "        self.X_val = X_val\n",
    "        self.Y_val = Y_val\n",
    "        self.r2_scores = []\n",
    "\n",
    "    def on_epoch_end(self, epoch, logs=None):\n",
    "        predictions = self.model.predict(self.X_val)\n",
    "        predictions = scaler_Y.inverse_transform(predictions)\n",
    "        Y_val_original = scaler_Y.inverse_transform(self.Y_val)\n",
    "        r2 = r2_score(Y_val_original, predictions)\n",
    "        self.r2_scores.append(r2)\n",
    "        print(f\"Epoch {epoch+1}: R² score = {r2}\")\n",
    "\n",
    "r2_callback = R2ScoreCallback(X_test, Y_test)\n",
    "\n",
    "# Function to build the model for hyperparameter tuning\n",
    "def build_model(hp):\n",
    "    model = Sequential()\n",
    "    model.add(Input(shape=(X_train.shape[1],)))  # Input layer\n",
    "\n",
    "    # Tune number of hidden layers (let's say between 1 to 3 hidden layers)\n",
    "    num_layers = hp.Int('num_layers', min_value=2, max_value=8)\n",
    "\n",
    "    # Add Dense layers dynamically based on the number of layers\n",
    "    for i in range(num_layers):\n",
    "        model.add(Dense(units=hp.Int(f'units_layer_{i}', min_value=16, max_value=1024, step=32), \n",
    "                        activation=hp.Choice(f'activation_layer_{i}', values=['relu', 'tanh'])))\n",
    "        \n",
    "        # Add Batch Normalization after each layer for faster convergence\n",
    "        model.add(BatchNormalization())\n",
    "        \n",
    "        # Optionally add Dropout layer after each Dense layer\n",
    "        model.add(Dropout(rate=hp.Float(f'dropout_layer_{i}', min_value=0.1, max_value=0.5, step=0.1)))\n",
    "\n",
    "    # Output layer for multi-output regression (unchanged)\n",
    "    model.add(Dense(1))  # Output for 4 labels\n",
    "\n",
    "    # Compile model with optimizer options and learning rate scheduling\n",
    "    optimizer_choice = hp.Choice('optimizer', ['adam', 'rmsprop', 'adamw'])\n",
    "    if optimizer_choice == 'adam':\n",
    "        optimizer = Adam(learning_rate=hp.Float('learning_rate', min_value=1e-4, max_value=1e-2, sampling='log'))\n",
    "    elif optimizer_choice == 'rmsprop':\n",
    "        optimizer = RMSprop(learning_rate=hp.Float('learning_rate', min_value=1e-4, max_value=1e-2, sampling='log'))\n",
    "    elif optimizer_choice == 'adamw':\n",
    "        optimizer = AdamW(learning_rate=hp.Float('learning_rate', min_value=1e-4, max_value=1e-2, sampling='log'))\n",
    "    \n",
    "    model.compile(optimizer=optimizer, loss='mean_squared_error')\n",
    "\n",
    "    return model\n",
    "\n",
    "# Set up the Keras Tuner with Bayesian Optimization\n",
    "tuner = RandomSearch(\n",
    "    build_model,            # Function that builds the model\n",
    "    objective='val_loss',    # Targeting validation loss\n",
    "    max_trials=100,          # Number of different hyperparameter combinations to try\n",
    "    executions_per_trial=2,  # Number of models to build for each combination (averaged performance)\n",
    "    directory='keras_tuner_dir',\n",
    "    project_name='max_rising_slope_tuning'\n",
    ")\n",
    "\n",
    "# Callbacks for early stopping and learning rate reduction\n",
    "early_stopping = EarlyStopping(monitor='val_loss', patience=10, restore_best_weights=True)\n",
    "reduce_lr = ReduceLROnPlateau(monitor='val_loss', factor=0.5, patience=5, min_lr=1e-6)\n",
    "\n",
    "# Search for the best model\n",
    "tuner.search(X_train, Y_train, epochs=100, validation_data=(X_test, Y_test), \n",
    "             callbacks=[r2_callback], batch_size=128)\n",
    "\n",
    "# Get the best model found by Keras Tuner\n",
    "best_model = tuner.get_best_models(num_models=1)[0]\n",
    "\n",
    "# Print the architecture of the best model\n",
    "best_model.summary()\n",
    "\n",
    "# Evaluate the model on the test set\n",
    "loss = best_model.evaluate(X_test, Y_test)\n",
    "print(f'Best model test loss: {loss}')\n",
    "\n",
    "# Make predictions on the test set using the best model\n",
    "predictions_scaled = best_model.predict(X_test)\n",
    "\n",
    "# Inverse transform the predictions and actual values to get them back to the original scale\n",
    "predictions = scaler_Y.inverse_transform(predictions_scaled)\n",
    "Y_test_original = scaler_Y.inverse_transform(Y_test)\n",
    "\n",
    "# Print a few predictions and actual values in their original (unscaled) form\n",
    "for i in range(10):\n",
    "    print(f\"Predicted: {predictions[i]}, Actual: {Y_test_original[i]}\")\n",
    "\n",
    "# Retrieve and display the best hyperparameters\n",
    "best_hps = tuner.get_best_hyperparameters(num_trials=1)[0]\n",
    "print(f\"Best hyperparameters: {best_hps.values}\")\"\"\""
   ]
  },
  {
   "cell_type": "code",
   "execution_count": 1,
   "metadata": {},
   "outputs": [
    {
     "name": "stdout",
     "output_type": "stream",
     "text": [
      "Trial 200 Complete [00h 00m 12s]\n",
      "val_loss: 0.028129037469625473\n",
      "\n",
      "Best val_loss So Far: 0.024756007827818394\n",
      "Total elapsed time: 03h 26m 18s\n"
     ]
    },
    {
     "name": "stderr",
     "output_type": "stream",
     "text": [
      "c:\\Users\\ASM PROCESS ENGINE\\AppData\\Local\\Programs\\Python\\Python312\\Lib\\site-packages\\keras\\src\\saving\\saving_lib.py:713: UserWarning: Skipping variable loading for optimizer 'rmsprop', because it has 2 variables whereas the saved optimizer has 12 variables. \n",
      "  saveable.load_own_variables(weights_store.get(inner_path))\n"
     ]
    },
    {
     "data": {
      "text/html": [
       "<pre style=\"white-space:pre;overflow-x:auto;line-height:normal;font-family:Menlo,'DejaVu Sans Mono',consolas,'Courier New',monospace\"><span style=\"font-weight: bold\">Model: \"sequential\"</span>\n",
       "</pre>\n"
      ],
      "text/plain": [
       "\u001b[1mModel: \"sequential\"\u001b[0m\n"
      ]
     },
     "metadata": {},
     "output_type": "display_data"
    },
    {
     "data": {
      "text/html": [
       "<pre style=\"white-space:pre;overflow-x:auto;line-height:normal;font-family:Menlo,'DejaVu Sans Mono',consolas,'Courier New',monospace\">┏━━━━━━━━━━━━━━━━━━━━━━━━━━━━━━━━━┳━━━━━━━━━━━━━━━━━━━━━━━━┳━━━━━━━━━━━━━━━┓\n",
       "┃<span style=\"font-weight: bold\"> Layer (type)                    </span>┃<span style=\"font-weight: bold\"> Output Shape           </span>┃<span style=\"font-weight: bold\">       Param # </span>┃\n",
       "┡━━━━━━━━━━━━━━━━━━━━━━━━━━━━━━━━━╇━━━━━━━━━━━━━━━━━━━━━━━━╇━━━━━━━━━━━━━━━┩\n",
       "│ dense (<span style=\"color: #0087ff; text-decoration-color: #0087ff\">Dense</span>)                   │ (<span style=\"color: #00d7ff; text-decoration-color: #00d7ff\">None</span>, <span style=\"color: #00af00; text-decoration-color: #00af00\">272</span>)            │         <span style=\"color: #00af00; text-decoration-color: #00af00\">5,168</span> │\n",
       "├─────────────────────────────────┼────────────────────────┼───────────────┤\n",
       "│ batch_normalization             │ (<span style=\"color: #00d7ff; text-decoration-color: #00d7ff\">None</span>, <span style=\"color: #00af00; text-decoration-color: #00af00\">272</span>)            │         <span style=\"color: #00af00; text-decoration-color: #00af00\">1,088</span> │\n",
       "│ (<span style=\"color: #0087ff; text-decoration-color: #0087ff\">BatchNormalization</span>)            │                        │               │\n",
       "├─────────────────────────────────┼────────────────────────┼───────────────┤\n",
       "│ dropout (<span style=\"color: #0087ff; text-decoration-color: #0087ff\">Dropout</span>)               │ (<span style=\"color: #00d7ff; text-decoration-color: #00d7ff\">None</span>, <span style=\"color: #00af00; text-decoration-color: #00af00\">272</span>)            │             <span style=\"color: #00af00; text-decoration-color: #00af00\">0</span> │\n",
       "├─────────────────────────────────┼────────────────────────┼───────────────┤\n",
       "│ dense_1 (<span style=\"color: #0087ff; text-decoration-color: #0087ff\">Dense</span>)                 │ (<span style=\"color: #00d7ff; text-decoration-color: #00d7ff\">None</span>, <span style=\"color: #00af00; text-decoration-color: #00af00\">1008</span>)           │       <span style=\"color: #00af00; text-decoration-color: #00af00\">275,184</span> │\n",
       "├─────────────────────────────────┼────────────────────────┼───────────────┤\n",
       "│ batch_normalization_1           │ (<span style=\"color: #00d7ff; text-decoration-color: #00d7ff\">None</span>, <span style=\"color: #00af00; text-decoration-color: #00af00\">1008</span>)           │         <span style=\"color: #00af00; text-decoration-color: #00af00\">4,032</span> │\n",
       "│ (<span style=\"color: #0087ff; text-decoration-color: #0087ff\">BatchNormalization</span>)            │                        │               │\n",
       "├─────────────────────────────────┼────────────────────────┼───────────────┤\n",
       "│ dropout_1 (<span style=\"color: #0087ff; text-decoration-color: #0087ff\">Dropout</span>)             │ (<span style=\"color: #00d7ff; text-decoration-color: #00d7ff\">None</span>, <span style=\"color: #00af00; text-decoration-color: #00af00\">1008</span>)           │             <span style=\"color: #00af00; text-decoration-color: #00af00\">0</span> │\n",
       "├─────────────────────────────────┼────────────────────────┼───────────────┤\n",
       "│ dense_2 (<span style=\"color: #0087ff; text-decoration-color: #0087ff\">Dense</span>)                 │ (<span style=\"color: #00d7ff; text-decoration-color: #00d7ff\">None</span>, <span style=\"color: #00af00; text-decoration-color: #00af00\">1</span>)              │         <span style=\"color: #00af00; text-decoration-color: #00af00\">1,009</span> │\n",
       "└─────────────────────────────────┴────────────────────────┴───────────────┘\n",
       "</pre>\n"
      ],
      "text/plain": [
       "┏━━━━━━━━━━━━━━━━━━━━━━━━━━━━━━━━━┳━━━━━━━━━━━━━━━━━━━━━━━━┳━━━━━━━━━━━━━━━┓\n",
       "┃\u001b[1m \u001b[0m\u001b[1mLayer (type)                   \u001b[0m\u001b[1m \u001b[0m┃\u001b[1m \u001b[0m\u001b[1mOutput Shape          \u001b[0m\u001b[1m \u001b[0m┃\u001b[1m \u001b[0m\u001b[1m      Param #\u001b[0m\u001b[1m \u001b[0m┃\n",
       "┡━━━━━━━━━━━━━━━━━━━━━━━━━━━━━━━━━╇━━━━━━━━━━━━━━━━━━━━━━━━╇━━━━━━━━━━━━━━━┩\n",
       "│ dense (\u001b[38;5;33mDense\u001b[0m)                   │ (\u001b[38;5;45mNone\u001b[0m, \u001b[38;5;34m272\u001b[0m)            │         \u001b[38;5;34m5,168\u001b[0m │\n",
       "├─────────────────────────────────┼────────────────────────┼───────────────┤\n",
       "│ batch_normalization             │ (\u001b[38;5;45mNone\u001b[0m, \u001b[38;5;34m272\u001b[0m)            │         \u001b[38;5;34m1,088\u001b[0m │\n",
       "│ (\u001b[38;5;33mBatchNormalization\u001b[0m)            │                        │               │\n",
       "├─────────────────────────────────┼────────────────────────┼───────────────┤\n",
       "│ dropout (\u001b[38;5;33mDropout\u001b[0m)               │ (\u001b[38;5;45mNone\u001b[0m, \u001b[38;5;34m272\u001b[0m)            │             \u001b[38;5;34m0\u001b[0m │\n",
       "├─────────────────────────────────┼────────────────────────┼───────────────┤\n",
       "│ dense_1 (\u001b[38;5;33mDense\u001b[0m)                 │ (\u001b[38;5;45mNone\u001b[0m, \u001b[38;5;34m1008\u001b[0m)           │       \u001b[38;5;34m275,184\u001b[0m │\n",
       "├─────────────────────────────────┼────────────────────────┼───────────────┤\n",
       "│ batch_normalization_1           │ (\u001b[38;5;45mNone\u001b[0m, \u001b[38;5;34m1008\u001b[0m)           │         \u001b[38;5;34m4,032\u001b[0m │\n",
       "│ (\u001b[38;5;33mBatchNormalization\u001b[0m)            │                        │               │\n",
       "├─────────────────────────────────┼────────────────────────┼───────────────┤\n",
       "│ dropout_1 (\u001b[38;5;33mDropout\u001b[0m)             │ (\u001b[38;5;45mNone\u001b[0m, \u001b[38;5;34m1008\u001b[0m)           │             \u001b[38;5;34m0\u001b[0m │\n",
       "├─────────────────────────────────┼────────────────────────┼───────────────┤\n",
       "│ dense_2 (\u001b[38;5;33mDense\u001b[0m)                 │ (\u001b[38;5;45mNone\u001b[0m, \u001b[38;5;34m1\u001b[0m)              │         \u001b[38;5;34m1,009\u001b[0m │\n",
       "└─────────────────────────────────┴────────────────────────┴───────────────┘\n"
      ]
     },
     "metadata": {},
     "output_type": "display_data"
    },
    {
     "data": {
      "text/html": [
       "<pre style=\"white-space:pre;overflow-x:auto;line-height:normal;font-family:Menlo,'DejaVu Sans Mono',consolas,'Courier New',monospace\"><span style=\"font-weight: bold\"> Total params: </span><span style=\"color: #00af00; text-decoration-color: #00af00\">286,481</span> (1.09 MB)\n",
       "</pre>\n"
      ],
      "text/plain": [
       "\u001b[1m Total params: \u001b[0m\u001b[38;5;34m286,481\u001b[0m (1.09 MB)\n"
      ]
     },
     "metadata": {},
     "output_type": "display_data"
    },
    {
     "data": {
      "text/html": [
       "<pre style=\"white-space:pre;overflow-x:auto;line-height:normal;font-family:Menlo,'DejaVu Sans Mono',consolas,'Courier New',monospace\"><span style=\"font-weight: bold\"> Trainable params: </span><span style=\"color: #00af00; text-decoration-color: #00af00\">283,921</span> (1.08 MB)\n",
       "</pre>\n"
      ],
      "text/plain": [
       "\u001b[1m Trainable params: \u001b[0m\u001b[38;5;34m283,921\u001b[0m (1.08 MB)\n"
      ]
     },
     "metadata": {},
     "output_type": "display_data"
    },
    {
     "data": {
      "text/html": [
       "<pre style=\"white-space:pre;overflow-x:auto;line-height:normal;font-family:Menlo,'DejaVu Sans Mono',consolas,'Courier New',monospace\"><span style=\"font-weight: bold\"> Non-trainable params: </span><span style=\"color: #00af00; text-decoration-color: #00af00\">2,560</span> (10.00 KB)\n",
       "</pre>\n"
      ],
      "text/plain": [
       "\u001b[1m Non-trainable params: \u001b[0m\u001b[38;5;34m2,560\u001b[0m (10.00 KB)\n"
      ]
     },
     "metadata": {},
     "output_type": "display_data"
    },
    {
     "name": "stdout",
     "output_type": "stream",
     "text": [
      "\u001b[1m1/1\u001b[0m \u001b[32m━━━━━━━━━━━━━━━━━━━━\u001b[0m\u001b[37m\u001b[0m \u001b[1m0s\u001b[0m 112ms/step - loss: 0.0242\n",
      "Best model test loss: 0.024171728640794754\n",
      "\u001b[1m1/1\u001b[0m \u001b[32m━━━━━━━━━━━━━━━━━━━━\u001b[0m\u001b[37m\u001b[0m \u001b[1m0s\u001b[0m 128ms/step\n",
      "Predicted: [2.2350464], Actual: [2.27]\n",
      "Predicted: [2.1880527], Actual: [1.79]\n",
      "Predicted: [1.9615892], Actual: [2.22]\n",
      "Predicted: [2.2109478], Actual: [1.83]\n",
      "Predicted: [2.0445423], Actual: [2.08]\n",
      "Predicted: [2.166354], Actual: [2.4]\n",
      "Predicted: [2.2165306], Actual: [2.22]\n",
      "Predicted: [2.173212], Actual: [1.72]\n",
      "Predicted: [2.1445882], Actual: [2.26]\n",
      "Predicted: [2.1745632], Actual: [2.25]\n",
      "Best hyperparameters: {'num_layers': 2, 'units_layer_0': 272, 'activation_layer_0': 'tanh', 'dropout_layer_0': 0.5, 'units_layer_1': 1008, 'activation_layer_1': 'relu', 'dropout_layer_1': 0.2, 'optimizer': 'rmsprop', 'learning_rate': 0.01, 'units_layer_2': 16, 'activation_layer_2': 'tanh', 'dropout_layer_2': 0.2, 'units_layer_3': 752, 'activation_layer_3': 'tanh', 'dropout_layer_3': 0.5, 'units_layer_4': 144, 'activation_layer_4': 'relu', 'dropout_layer_4': 0.5, 'units_layer_5': 624, 'activation_layer_5': 'relu', 'dropout_layer_5': 0.4, 'units_layer_6': 464, 'activation_layer_6': 'tanh', 'dropout_layer_6': 0.4, 'units_layer_7': 240, 'activation_layer_7': 'tanh', 'dropout_layer_7': 0.2}\n"
     ]
    }
   ],
   "source": [
    "\"\"\"import tensorflow as tf\n",
    "from tensorflow.keras.models import Sequential\n",
    "from tensorflow.keras.layers import Dense, Dropout, Input, BatchNormalization\n",
    "from tensorflow.keras.optimizers import Adam,RMSprop,AdamW\n",
    "from keras_tuner import BayesianOptimization\n",
    "from sklearn.model_selection import train_test_split\n",
    "from sklearn.preprocessing import MinMaxScaler\n",
    "from keras_tuner import RandomSearch\n",
    "from tensorflow.keras.callbacks import Callback,EarlyStopping, ReduceLROnPlateau\n",
    "from sklearn.metrics import r2_score\n",
    "import matplotlib.pyplot as plt\n",
    "\n",
    "import pandas as pd\n",
    "\n",
    "# Load the dataset\n",
    "file_path = 'D:/aaaaaa/exported_dataset.xlsx'\n",
    "df = pd.read_excel(file_path)\n",
    "\n",
    "# Prepare features (X) and labels (Y)\n",
    "X = df.drop(['Max Rising Slope', 'Soak Time', 'Reflow Time', 'Peak Temp','SilkScreen_0','SilkScreen_1'], axis=1)  # Drop target columns from features\n",
    "Y = df[['Max Rising Slope']]  # Multi-output labels\n",
    "\n",
    "# Initialize MinMaxScaler\n",
    "scaler_X = MinMaxScaler()\n",
    "scaler_Y = MinMaxScaler()\n",
    "\n",
    "# Scale the features and labels\n",
    "X_scaled = scaler_X.fit_transform(X)\n",
    "Y_scaled = scaler_Y.fit_transform(Y)\n",
    "\n",
    "# Split the dataset into train and test sets\n",
    "X_train, X_test, Y_train, Y_test = train_test_split(X_scaled, Y_scaled, test_size=0.1, random_state=42)\n",
    "\n",
    "# Custom callback to track R² score\n",
    "class R2ScoreCallback(Callback):\n",
    "    def __init__(self, X_val, Y_val):\n",
    "        self.X_val = X_val\n",
    "        self.Y_val = Y_val\n",
    "        self.r2_scores = []\n",
    "\n",
    "    def on_epoch_end(self, epoch, logs=None):\n",
    "        predictions = self.model.predict(self.X_val)\n",
    "        predictions = scaler_Y.inverse_transform(predictions)\n",
    "        Y_val_original = scaler_Y.inverse_transform(self.Y_val)\n",
    "        r2 = r2_score(Y_val_original, predictions)\n",
    "        self.r2_scores.append(r2)\n",
    "        print(f\"Epoch {epoch+1}: R² score = {r2}\")\n",
    "\n",
    "r2_callback = R2ScoreCallback(X_test, Y_test)\n",
    "\n",
    "# Function to build the model for hyperparameter tuning\n",
    "def build_model(hp):\n",
    "    model = Sequential()\n",
    "    model.add(Input(shape=(X_train.shape[1],)))  # Input layer\n",
    "\n",
    "    # Tune number of hidden layers (let's say between 1 to 3 hidden layers)\n",
    "    num_layers = hp.Int('num_layers', min_value=2, max_value=8)\n",
    "\n",
    "    # Add Dense layers dynamically based on the number of layers\n",
    "    for i in range(num_layers):\n",
    "        model.add(Dense(units=hp.Int(f'units_layer_{i}', min_value=16, max_value=1024, step=32), \n",
    "                        activation=hp.Choice(f'activation_layer_{i}', values=['relu', 'tanh'])))\n",
    "        \n",
    "        # Add Batch Normalization after each layer for faster convergence\n",
    "        model.add(BatchNormalization())\n",
    "        \n",
    "        # Optionally add Dropout layer after each Dense layer\n",
    "        model.add(Dropout(rate=hp.Float(f'dropout_layer_{i}', min_value=0.1, max_value=0.5, step=0.1)))\n",
    "\n",
    "    # Output layer for multi-output regression (unchanged)\n",
    "    model.add(Dense(1))  # Output for 4 labels\n",
    "\n",
    "    # Compile model with optimizer options and learning rate scheduling\n",
    "    optimizer_choice = hp.Choice('optimizer', ['adam', 'rmsprop', 'adamw'])\n",
    "    if optimizer_choice == 'adam':\n",
    "        optimizer = Adam(learning_rate=hp.Float('learning_rate', min_value=1e-5, max_value=1e-2, sampling='log'))\n",
    "    elif optimizer_choice == 'rmsprop':\n",
    "        optimizer = RMSprop(learning_rate=hp.Float('learning_rate', min_value=1e-5, max_value=1e-2, sampling='log'))\n",
    "    elif optimizer_choice == 'adamw':\n",
    "        optimizer = AdamW(learning_rate=hp.Float('learning_rate', min_value=1e-5, max_value=1e-2, sampling='log'))\n",
    "    \n",
    "    model.compile(optimizer=optimizer, loss='mean_squared_error')\n",
    "\n",
    "    return model\n",
    "\n",
    "# Set up the Keras Tuner with Bayesian Optimization\n",
    "tuner = BayesianOptimization(\n",
    "    build_model,            # Function that builds the model\n",
    "    objective='val_loss',    # Targeting validation loss\n",
    "    max_trials=200,          # Number of different hyperparameter combinations to try\n",
    "    executions_per_trial=2,  # Number of models to build for each combination (averaged performance)\n",
    "    directory='keras_tuner_dir',\n",
    "    project_name='max_rising_slope_tuning_2'\n",
    ")\n",
    "\n",
    "# Callbacks for early stopping and learning rate reduction\n",
    "early_stopping = EarlyStopping(monitor='val_loss', patience=10, restore_best_weights=True)\n",
    "reduce_lr = ReduceLROnPlateau(monitor='val_loss', factor=0.5, patience=5, min_lr=1e-6)\n",
    "\n",
    "# Search for the best model\n",
    "tuner.search(X_train, Y_train, epochs=40, validation_data=(X_test, Y_test), \n",
    "             callbacks=[r2_callback, reduce_lr, early_stopping], batch_size=128)\n",
    "\n",
    "# Get the best model found by Keras Tuner\n",
    "best_model = tuner.get_best_models(num_models=1)[0]\n",
    "\n",
    "# Print the architecture of the best model\n",
    "best_model.summary()\n",
    "\n",
    "# Evaluate the model on the test set\n",
    "loss = best_model.evaluate(X_test, Y_test)\n",
    "print(f'Best model test loss: {loss}')\n",
    "\n",
    "# Make predictions on the test set using the best model\n",
    "predictions_scaled = best_model.predict(X_test)\n",
    "\n",
    "# Inverse transform the predictions and actual values to get them back to the original scale\n",
    "predictions = scaler_Y.inverse_transform(predictions_scaled)\n",
    "Y_test_original = scaler_Y.inverse_transform(Y_test)\n",
    "\n",
    "# Print a few predictions and actual values in their original (unscaled) form\n",
    "for i in range(10):\n",
    "    print(f\"Predicted: {predictions[i]}, Actual: {Y_test_original[i]}\")\n",
    "\n",
    "# Retrieve and display the best hyperparameters\n",
    "best_hps = tuner.get_best_hyperparameters(num_trials=1)[0]\n",
    "print(f\"Best hyperparameters: {best_hps.values}\")\"\"\""
   ]
  },
  {
   "cell_type": "code",
   "execution_count": 1,
   "metadata": {},
   "outputs": [
    {
     "name": "stdout",
     "output_type": "stream",
     "text": [
      "Trial 150 Complete [00h 00m 10s]\n",
      "val_loss: 0.2808857858181\n",
      "\n",
      "Best val_loss So Far: 0.025139384903013706\n",
      "Total elapsed time: 02h 29m 22s\n"
     ]
    },
    {
     "name": "stderr",
     "output_type": "stream",
     "text": [
      "c:\\Users\\ASM PROCESS ENGINE\\AppData\\Local\\Programs\\Python\\Python312\\Lib\\site-packages\\keras\\src\\saving\\saving_lib.py:713: UserWarning: Skipping variable loading for optimizer 'adamw', because it has 2 variables whereas the saved optimizer has 38 variables. \n",
      "  saveable.load_own_variables(weights_store.get(inner_path))\n"
     ]
    },
    {
     "data": {
      "text/html": [
       "<pre style=\"white-space:pre;overflow-x:auto;line-height:normal;font-family:Menlo,'DejaVu Sans Mono',consolas,'Courier New',monospace\"><span style=\"font-weight: bold\">Model: \"sequential\"</span>\n",
       "</pre>\n"
      ],
      "text/plain": [
       "\u001b[1mModel: \"sequential\"\u001b[0m\n"
      ]
     },
     "metadata": {},
     "output_type": "display_data"
    },
    {
     "data": {
      "text/html": [
       "<pre style=\"white-space:pre;overflow-x:auto;line-height:normal;font-family:Menlo,'DejaVu Sans Mono',consolas,'Courier New',monospace\">┏━━━━━━━━━━━━━━━━━━━━━━━━━━━━━━━━━┳━━━━━━━━━━━━━━━━━━━━━━━━┳━━━━━━━━━━━━━━━┓\n",
       "┃<span style=\"font-weight: bold\"> Layer (type)                    </span>┃<span style=\"font-weight: bold\"> Output Shape           </span>┃<span style=\"font-weight: bold\">       Param # </span>┃\n",
       "┡━━━━━━━━━━━━━━━━━━━━━━━━━━━━━━━━━╇━━━━━━━━━━━━━━━━━━━━━━━━╇━━━━━━━━━━━━━━━┩\n",
       "│ dense (<span style=\"color: #0087ff; text-decoration-color: #0087ff\">Dense</span>)                   │ (<span style=\"color: #00d7ff; text-decoration-color: #00d7ff\">None</span>, <span style=\"color: #00af00; text-decoration-color: #00af00\">912</span>)            │        <span style=\"color: #00af00; text-decoration-color: #00af00\">17,328</span> │\n",
       "├─────────────────────────────────┼────────────────────────┼───────────────┤\n",
       "│ batch_normalization             │ (<span style=\"color: #00d7ff; text-decoration-color: #00d7ff\">None</span>, <span style=\"color: #00af00; text-decoration-color: #00af00\">912</span>)            │         <span style=\"color: #00af00; text-decoration-color: #00af00\">3,648</span> │\n",
       "│ (<span style=\"color: #0087ff; text-decoration-color: #0087ff\">BatchNormalization</span>)            │                        │               │\n",
       "├─────────────────────────────────┼────────────────────────┼───────────────┤\n",
       "│ dropout (<span style=\"color: #0087ff; text-decoration-color: #0087ff\">Dropout</span>)               │ (<span style=\"color: #00d7ff; text-decoration-color: #00d7ff\">None</span>, <span style=\"color: #00af00; text-decoration-color: #00af00\">912</span>)            │             <span style=\"color: #00af00; text-decoration-color: #00af00\">0</span> │\n",
       "├─────────────────────────────────┼────────────────────────┼───────────────┤\n",
       "│ dense_1 (<span style=\"color: #0087ff; text-decoration-color: #0087ff\">Dense</span>)                 │ (<span style=\"color: #00d7ff; text-decoration-color: #00d7ff\">None</span>, <span style=\"color: #00af00; text-decoration-color: #00af00\">1008</span>)           │       <span style=\"color: #00af00; text-decoration-color: #00af00\">920,304</span> │\n",
       "├─────────────────────────────────┼────────────────────────┼───────────────┤\n",
       "│ batch_normalization_1           │ (<span style=\"color: #00d7ff; text-decoration-color: #00d7ff\">None</span>, <span style=\"color: #00af00; text-decoration-color: #00af00\">1008</span>)           │         <span style=\"color: #00af00; text-decoration-color: #00af00\">4,032</span> │\n",
       "│ (<span style=\"color: #0087ff; text-decoration-color: #0087ff\">BatchNormalization</span>)            │                        │               │\n",
       "├─────────────────────────────────┼────────────────────────┼───────────────┤\n",
       "│ dropout_1 (<span style=\"color: #0087ff; text-decoration-color: #0087ff\">Dropout</span>)             │ (<span style=\"color: #00d7ff; text-decoration-color: #00d7ff\">None</span>, <span style=\"color: #00af00; text-decoration-color: #00af00\">1008</span>)           │             <span style=\"color: #00af00; text-decoration-color: #00af00\">0</span> │\n",
       "├─────────────────────────────────┼────────────────────────┼───────────────┤\n",
       "│ dense_2 (<span style=\"color: #0087ff; text-decoration-color: #0087ff\">Dense</span>)                 │ (<span style=\"color: #00d7ff; text-decoration-color: #00d7ff\">None</span>, <span style=\"color: #00af00; text-decoration-color: #00af00\">304</span>)            │       <span style=\"color: #00af00; text-decoration-color: #00af00\">306,736</span> │\n",
       "├─────────────────────────────────┼────────────────────────┼───────────────┤\n",
       "│ batch_normalization_2           │ (<span style=\"color: #00d7ff; text-decoration-color: #00d7ff\">None</span>, <span style=\"color: #00af00; text-decoration-color: #00af00\">304</span>)            │         <span style=\"color: #00af00; text-decoration-color: #00af00\">1,216</span> │\n",
       "│ (<span style=\"color: #0087ff; text-decoration-color: #0087ff\">BatchNormalization</span>)            │                        │               │\n",
       "├─────────────────────────────────┼────────────────────────┼───────────────┤\n",
       "│ dropout_2 (<span style=\"color: #0087ff; text-decoration-color: #0087ff\">Dropout</span>)             │ (<span style=\"color: #00d7ff; text-decoration-color: #00d7ff\">None</span>, <span style=\"color: #00af00; text-decoration-color: #00af00\">304</span>)            │             <span style=\"color: #00af00; text-decoration-color: #00af00\">0</span> │\n",
       "├─────────────────────────────────┼────────────────────────┼───────────────┤\n",
       "│ dense_3 (<span style=\"color: #0087ff; text-decoration-color: #0087ff\">Dense</span>)                 │ (<span style=\"color: #00d7ff; text-decoration-color: #00d7ff\">None</span>, <span style=\"color: #00af00; text-decoration-color: #00af00\">1008</span>)           │       <span style=\"color: #00af00; text-decoration-color: #00af00\">307,440</span> │\n",
       "├─────────────────────────────────┼────────────────────────┼───────────────┤\n",
       "│ batch_normalization_3           │ (<span style=\"color: #00d7ff; text-decoration-color: #00d7ff\">None</span>, <span style=\"color: #00af00; text-decoration-color: #00af00\">1008</span>)           │         <span style=\"color: #00af00; text-decoration-color: #00af00\">4,032</span> │\n",
       "│ (<span style=\"color: #0087ff; text-decoration-color: #0087ff\">BatchNormalization</span>)            │                        │               │\n",
       "├─────────────────────────────────┼────────────────────────┼───────────────┤\n",
       "│ dropout_3 (<span style=\"color: #0087ff; text-decoration-color: #0087ff\">Dropout</span>)             │ (<span style=\"color: #00d7ff; text-decoration-color: #00d7ff\">None</span>, <span style=\"color: #00af00; text-decoration-color: #00af00\">1008</span>)           │             <span style=\"color: #00af00; text-decoration-color: #00af00\">0</span> │\n",
       "├─────────────────────────────────┼────────────────────────┼───────────────┤\n",
       "│ dense_4 (<span style=\"color: #0087ff; text-decoration-color: #0087ff\">Dense</span>)                 │ (<span style=\"color: #00d7ff; text-decoration-color: #00d7ff\">None</span>, <span style=\"color: #00af00; text-decoration-color: #00af00\">1</span>)              │         <span style=\"color: #00af00; text-decoration-color: #00af00\">1,009</span> │\n",
       "└─────────────────────────────────┴────────────────────────┴───────────────┘\n",
       "</pre>\n"
      ],
      "text/plain": [
       "┏━━━━━━━━━━━━━━━━━━━━━━━━━━━━━━━━━┳━━━━━━━━━━━━━━━━━━━━━━━━┳━━━━━━━━━━━━━━━┓\n",
       "┃\u001b[1m \u001b[0m\u001b[1mLayer (type)                   \u001b[0m\u001b[1m \u001b[0m┃\u001b[1m \u001b[0m\u001b[1mOutput Shape          \u001b[0m\u001b[1m \u001b[0m┃\u001b[1m \u001b[0m\u001b[1m      Param #\u001b[0m\u001b[1m \u001b[0m┃\n",
       "┡━━━━━━━━━━━━━━━━━━━━━━━━━━━━━━━━━╇━━━━━━━━━━━━━━━━━━━━━━━━╇━━━━━━━━━━━━━━━┩\n",
       "│ dense (\u001b[38;5;33mDense\u001b[0m)                   │ (\u001b[38;5;45mNone\u001b[0m, \u001b[38;5;34m912\u001b[0m)            │        \u001b[38;5;34m17,328\u001b[0m │\n",
       "├─────────────────────────────────┼────────────────────────┼───────────────┤\n",
       "│ batch_normalization             │ (\u001b[38;5;45mNone\u001b[0m, \u001b[38;5;34m912\u001b[0m)            │         \u001b[38;5;34m3,648\u001b[0m │\n",
       "│ (\u001b[38;5;33mBatchNormalization\u001b[0m)            │                        │               │\n",
       "├─────────────────────────────────┼────────────────────────┼───────────────┤\n",
       "│ dropout (\u001b[38;5;33mDropout\u001b[0m)               │ (\u001b[38;5;45mNone\u001b[0m, \u001b[38;5;34m912\u001b[0m)            │             \u001b[38;5;34m0\u001b[0m │\n",
       "├─────────────────────────────────┼────────────────────────┼───────────────┤\n",
       "│ dense_1 (\u001b[38;5;33mDense\u001b[0m)                 │ (\u001b[38;5;45mNone\u001b[0m, \u001b[38;5;34m1008\u001b[0m)           │       \u001b[38;5;34m920,304\u001b[0m │\n",
       "├─────────────────────────────────┼────────────────────────┼───────────────┤\n",
       "│ batch_normalization_1           │ (\u001b[38;5;45mNone\u001b[0m, \u001b[38;5;34m1008\u001b[0m)           │         \u001b[38;5;34m4,032\u001b[0m │\n",
       "│ (\u001b[38;5;33mBatchNormalization\u001b[0m)            │                        │               │\n",
       "├─────────────────────────────────┼────────────────────────┼───────────────┤\n",
       "│ dropout_1 (\u001b[38;5;33mDropout\u001b[0m)             │ (\u001b[38;5;45mNone\u001b[0m, \u001b[38;5;34m1008\u001b[0m)           │             \u001b[38;5;34m0\u001b[0m │\n",
       "├─────────────────────────────────┼────────────────────────┼───────────────┤\n",
       "│ dense_2 (\u001b[38;5;33mDense\u001b[0m)                 │ (\u001b[38;5;45mNone\u001b[0m, \u001b[38;5;34m304\u001b[0m)            │       \u001b[38;5;34m306,736\u001b[0m │\n",
       "├─────────────────────────────────┼────────────────────────┼───────────────┤\n",
       "│ batch_normalization_2           │ (\u001b[38;5;45mNone\u001b[0m, \u001b[38;5;34m304\u001b[0m)            │         \u001b[38;5;34m1,216\u001b[0m │\n",
       "│ (\u001b[38;5;33mBatchNormalization\u001b[0m)            │                        │               │\n",
       "├─────────────────────────────────┼────────────────────────┼───────────────┤\n",
       "│ dropout_2 (\u001b[38;5;33mDropout\u001b[0m)             │ (\u001b[38;5;45mNone\u001b[0m, \u001b[38;5;34m304\u001b[0m)            │             \u001b[38;5;34m0\u001b[0m │\n",
       "├─────────────────────────────────┼────────────────────────┼───────────────┤\n",
       "│ dense_3 (\u001b[38;5;33mDense\u001b[0m)                 │ (\u001b[38;5;45mNone\u001b[0m, \u001b[38;5;34m1008\u001b[0m)           │       \u001b[38;5;34m307,440\u001b[0m │\n",
       "├─────────────────────────────────┼────────────────────────┼───────────────┤\n",
       "│ batch_normalization_3           │ (\u001b[38;5;45mNone\u001b[0m, \u001b[38;5;34m1008\u001b[0m)           │         \u001b[38;5;34m4,032\u001b[0m │\n",
       "│ (\u001b[38;5;33mBatchNormalization\u001b[0m)            │                        │               │\n",
       "├─────────────────────────────────┼────────────────────────┼───────────────┤\n",
       "│ dropout_3 (\u001b[38;5;33mDropout\u001b[0m)             │ (\u001b[38;5;45mNone\u001b[0m, \u001b[38;5;34m1008\u001b[0m)           │             \u001b[38;5;34m0\u001b[0m │\n",
       "├─────────────────────────────────┼────────────────────────┼───────────────┤\n",
       "│ dense_4 (\u001b[38;5;33mDense\u001b[0m)                 │ (\u001b[38;5;45mNone\u001b[0m, \u001b[38;5;34m1\u001b[0m)              │         \u001b[38;5;34m1,009\u001b[0m │\n",
       "└─────────────────────────────────┴────────────────────────┴───────────────┘\n"
      ]
     },
     "metadata": {},
     "output_type": "display_data"
    },
    {
     "data": {
      "text/html": [
       "<pre style=\"white-space:pre;overflow-x:auto;line-height:normal;font-family:Menlo,'DejaVu Sans Mono',consolas,'Courier New',monospace\"><span style=\"font-weight: bold\"> Total params: </span><span style=\"color: #00af00; text-decoration-color: #00af00\">1,565,745</span> (5.97 MB)\n",
       "</pre>\n"
      ],
      "text/plain": [
       "\u001b[1m Total params: \u001b[0m\u001b[38;5;34m1,565,745\u001b[0m (5.97 MB)\n"
      ]
     },
     "metadata": {},
     "output_type": "display_data"
    },
    {
     "data": {
      "text/html": [
       "<pre style=\"white-space:pre;overflow-x:auto;line-height:normal;font-family:Menlo,'DejaVu Sans Mono',consolas,'Courier New',monospace\"><span style=\"font-weight: bold\"> Trainable params: </span><span style=\"color: #00af00; text-decoration-color: #00af00\">1,559,281</span> (5.95 MB)\n",
       "</pre>\n"
      ],
      "text/plain": [
       "\u001b[1m Trainable params: \u001b[0m\u001b[38;5;34m1,559,281\u001b[0m (5.95 MB)\n"
      ]
     },
     "metadata": {},
     "output_type": "display_data"
    },
    {
     "data": {
      "text/html": [
       "<pre style=\"white-space:pre;overflow-x:auto;line-height:normal;font-family:Menlo,'DejaVu Sans Mono',consolas,'Courier New',monospace\"><span style=\"font-weight: bold\"> Non-trainable params: </span><span style=\"color: #00af00; text-decoration-color: #00af00\">6,464</span> (25.25 KB)\n",
       "</pre>\n"
      ],
      "text/plain": [
       "\u001b[1m Non-trainable params: \u001b[0m\u001b[38;5;34m6,464\u001b[0m (25.25 KB)\n"
      ]
     },
     "metadata": {},
     "output_type": "display_data"
    },
    {
     "name": "stdout",
     "output_type": "stream",
     "text": [
      "\u001b[1m1/1\u001b[0m \u001b[32m━━━━━━━━━━━━━━━━━━━━\u001b[0m\u001b[37m\u001b[0m \u001b[1m0s\u001b[0m 189ms/step - loss: 0.0240\n",
      "Best model test loss: 0.023969868198037148\n",
      "\u001b[1m1/1\u001b[0m \u001b[32m━━━━━━━━━━━━━━━━━━━━\u001b[0m\u001b[37m\u001b[0m \u001b[1m0s\u001b[0m 134ms/step\n",
      "Predicted: [2.3733106], Actual: [2.27]\n",
      "Predicted: [2.1787508], Actual: [1.79]\n",
      "Predicted: [2.1726217], Actual: [2.22]\n",
      "Predicted: [2.2736816], Actual: [1.83]\n",
      "Predicted: [2.193591], Actual: [2.08]\n",
      "Predicted: [2.152157], Actual: [2.4]\n",
      "Predicted: [2.257372], Actual: [2.22]\n",
      "Predicted: [2.164738], Actual: [1.72]\n",
      "Predicted: [2.197234], Actual: [2.26]\n",
      "Predicted: [2.1723065], Actual: [2.25]\n",
      "Best hyperparameters: {'num_layers': 4, 'units_layer_0': 912, 'activation_layer_0': 'tanh', 'dropout_layer_0': 0.5, 'units_layer_1': 1008, 'activation_layer_1': 'tanh', 'dropout_layer_1': 0.1, 'optimizer': 'adamw', 'learning_rate': 0.00023657326484406444, 'units_layer_2': 304, 'activation_layer_2': 'tanh', 'dropout_layer_2': 0.4, 'units_layer_3': 1008, 'activation_layer_3': 'relu', 'dropout_layer_3': 0.2, 'momentum': 0.7000000000000001, 'units_layer_4': 592, 'activation_layer_4': 'tanh', 'dropout_layer_4': 0.1, 'units_layer_5': 1008, 'activation_layer_5': 'tanh', 'dropout_layer_5': 0.1, 'units_layer_6': 400, 'activation_layer_6': 'relu', 'dropout_layer_6': 0.2, 'units_layer_7': 400, 'activation_layer_7': 'tanh', 'dropout_layer_7': 0.1}\n"
     ]
    }
   ],
   "source": [
    "\"\"\"import tensorflow as tf\n",
    "from tensorflow.keras.models import Sequential\n",
    "from tensorflow.keras.layers import Dense, Dropout, Input, BatchNormalization\n",
    "from tensorflow.keras.optimizers import Adam,RMSprop,AdamW,SGD,Adagrad\n",
    "from keras_tuner import BayesianOptimization\n",
    "from sklearn.model_selection import train_test_split\n",
    "from sklearn.preprocessing import MinMaxScaler\n",
    "from keras_tuner import RandomSearch\n",
    "from tensorflow.keras.callbacks import Callback,EarlyStopping, ReduceLROnPlateau\n",
    "from sklearn.metrics import r2_score\n",
    "import matplotlib.pyplot as plt\n",
    "\n",
    "import pandas as pd\n",
    "\n",
    "# Load the dataset\n",
    "file_path = 'D:/aaaaaa/exported_dataset.xlsx'\n",
    "df = pd.read_excel(file_path)\n",
    "\n",
    "# Prepare features (X) and labels (Y)\n",
    "X = df.drop(['Max Rising Slope', 'Soak Time', 'Reflow Time', 'Peak Temp','SilkScreen_0','SilkScreen_1'], axis=1)  # Drop target columns from features\n",
    "Y = df[['Max Rising Slope']]  # Multi-output labels\n",
    "\n",
    "# Initialize MinMaxScaler\n",
    "scaler_X = MinMaxScaler()\n",
    "scaler_Y = MinMaxScaler()\n",
    "\n",
    "# Scale the features and labels\n",
    "X_scaled = scaler_X.fit_transform(X)\n",
    "Y_scaled = scaler_Y.fit_transform(Y)\n",
    "\n",
    "# Split the dataset into train and test sets\n",
    "X_train, X_test, Y_train, Y_test = train_test_split(X_scaled, Y_scaled, test_size=0.1, random_state=42)\n",
    "\n",
    "# Custom callback to track R² score\n",
    "class R2ScoreCallback(Callback):\n",
    "    def __init__(self, X_val, Y_val):\n",
    "        self.X_val = X_val\n",
    "        self.Y_val = Y_val\n",
    "        self.r2_scores = []\n",
    "\n",
    "    def on_epoch_end(self, epoch, logs=None):\n",
    "        predictions = self.model.predict(self.X_val)\n",
    "        predictions = scaler_Y.inverse_transform(predictions)\n",
    "        Y_val_original = scaler_Y.inverse_transform(self.Y_val)\n",
    "        r2 = r2_score(Y_val_original, predictions)\n",
    "        self.r2_scores.append(r2)\n",
    "        print(f\"Epoch {epoch+1}: R² score = {r2}\")\n",
    "\n",
    "r2_callback = R2ScoreCallback(X_test, Y_test)\n",
    "\n",
    "# Function to build the model for hyperparameter tuning\n",
    "def build_model(hp):\n",
    "    model = Sequential()\n",
    "    model.add(Input(shape=(X_train.shape[1],)))  # Input layer\n",
    "\n",
    "    # Tune number of hidden layers (let's say between 1 to 3 hidden layers)\n",
    "    num_layers = hp.Int('num_layers', min_value=2, max_value=5)\n",
    "\n",
    "    # Add Dense layers dynamically based on the number of layers\n",
    "    for i in range(num_layers):\n",
    "        model.add(Dense(units=hp.Int(f'units_layer_{i}', min_value=64, max_value=1024, step=64), \n",
    "                        activation=hp.Choice(f'activation_layer_{i}', values=['relu', 'tanh'])))\n",
    "        \n",
    "        # Add Batch Normalization after each layer for faster convergence\n",
    "        model.add(BatchNormalization())\n",
    "        \n",
    "        # Optionally add Dropout layer after each Dense layer\n",
    "        model.add(Dropout(rate=hp.Float(f'dropout_layer_{i}', min_value=0.1, max_value=0.5, step=0.1)))\n",
    "\n",
    "    # Output layer for multi-output regression (unchanged)\n",
    "    model.add(Dense(1))  # Output for 4 labels\n",
    "\n",
    "    # Compile model with optimizer options and learning rate scheduling\n",
    "    optimizer_choice = hp.Choice('optimizer', ['adam', 'rmsprop', 'adamw', 'sgd', 'adagrad']) \n",
    "\n",
    "    if optimizer_choice == 'adam':\n",
    "        optimizer = Adam(learning_rate=hp.Float('learning_rate', min_value=1e-5, max_value=1e-2, sampling='log'))\n",
    "    elif optimizer_choice == 'rmsprop':\n",
    "        optimizer = RMSprop(learning_rate=hp.Float('learning_rate', min_value=1e-5, max_value=1e-2, sampling='log'))\n",
    "    elif optimizer_choice == 'adamw':\n",
    "        optimizer = AdamW(learning_rate=hp.Float('learning_rate', min_value=1e-5, max_value=1e-2, sampling='log'))\n",
    "    elif optimizer_choice == 'sgd':\n",
    "        optimizer = SGD(learning_rate=hp.Float('learning_rate', min_value=1e-5, max_value=1e-2, sampling='log'),\n",
    "                        momentum=hp.Float('momentum', min_value=0.0, max_value=0.9, step=0.1))  # Added momentum for SGD\n",
    "    elif optimizer_choice == 'adagrad':\n",
    "        optimizer = Adagrad(learning_rate=hp.Float('learning_rate', min_value=1e-5, max_value=1e-2, sampling='log'))\n",
    "\n",
    "    model.compile(optimizer=optimizer, loss='mean_squared_error')\n",
    "\n",
    "    return model\n",
    "\n",
    "# Set up the Keras Tuner with Bayesian Optimization\n",
    "tuner = BayesianOptimization(\n",
    "    build_model,            # Function that builds the model\n",
    "    objective='val_loss',    # Targeting validation loss\n",
    "    max_trials=150,          # Number of different hyperparameter combinations to try\n",
    "    executions_per_trial=2,  # Number of models to build for each combination (averaged performance)\n",
    "    directory='keras_tuner_dir',\n",
    "    project_name='max_rising_slope_tuning_2'\n",
    ")\n",
    "\n",
    "# Callbacks for early stopping and learning rate reduction\n",
    "early_stopping = EarlyStopping(monitor='val_loss', patience=10, restore_best_weights=True)\n",
    "reduce_lr = ReduceLROnPlateau(monitor='val_loss', factor=0.5, patience=5, min_lr=1e-6)\n",
    "\n",
    "# Search for the best model\n",
    "tuner.search(X_train, Y_train, epochs=100, validation_data=(X_test, Y_test), \n",
    "             callbacks=[r2_callback, reduce_lr, early_stopping], batch_size=128)\n",
    "\n",
    "# Get the best model found by Keras Tuner\n",
    "best_model = tuner.get_best_models(num_models=1)[0]\n",
    "\n",
    "# Print the architecture of the best model\n",
    "best_model.summary()\n",
    "\n",
    "# Evaluate the model on the test set\n",
    "loss = best_model.evaluate(X_test, Y_test)\n",
    "print(f'Best model test loss: {loss}')\n",
    "\n",
    "# Make predictions on the test set using the best model\n",
    "predictions_scaled = best_model.predict(X_test)\n",
    "\n",
    "# Inverse transform the predictions and actual values to get them back to the original scale\n",
    "predictions = scaler_Y.inverse_transform(predictions_scaled)\n",
    "Y_test_original = scaler_Y.inverse_transform(Y_test)\n",
    "\n",
    "# Print a few predictions and actual values in their original (unscaled) form\n",
    "for i in range(10):\n",
    "    print(f\"Predicted: {predictions[i]}, Actual: {Y_test_original[i]}\")\n",
    "\n",
    "# Retrieve and display the best hyperparameters\n",
    "best_hps = tuner.get_best_hyperparameters(num_trials=1)[0]\n",
    "print(f\"Best hyperparameters: {best_hps.values}\")\"\"\""
   ]
  },
  {
   "cell_type": "code",
   "execution_count": 1,
   "metadata": {},
   "outputs": [
    {
     "name": "stdout",
     "output_type": "stream",
     "text": [
      "WARNING:tensorflow:From d:\\Installation\\Anacondaa\\Lib\\site-packages\\keras\\src\\losses.py:2976: The name tf.losses.sparse_softmax_cross_entropy is deprecated. Please use tf.compat.v1.losses.sparse_softmax_cross_entropy instead.\n",
      "\n"
     ]
    }
   ],
   "source": [
    "import matplotlib.pyplot as plt\n",
    "from sklearn.model_selection import train_test_split\n",
    "from tensorflow.keras.models import Sequential\n",
    "from tensorflow.keras.layers import Dense, Dropout\n",
    "from tensorflow.keras.optimizers import Adam\n",
    "from sklearn.preprocessing import MinMaxScaler\n",
    "from sklearn.metrics import r2_score\n",
    "from tensorflow.keras.callbacks import Callback\n",
    "import pandas as pd\n",
    "import pickle "
   ]
  },
  {
   "cell_type": "code",
   "execution_count": 2,
   "metadata": {},
   "outputs": [],
   "source": [
    "file_path = 'D:/bla bla/exported_dataset_New.xlsx'\n",
    "df = pd.read_excel(file_path)"
   ]
  },
  {
   "cell_type": "code",
   "execution_count": 3,
   "metadata": {},
   "outputs": [],
   "source": [
    "# Prepare features (X) and labels (Y)\n",
    "X = df.drop(['Max Rising Slope', 'Soak Time', 'Reflow Time', 'Peak Temp'], axis=1)  # Drop target columns from features\n",
    "Y = df[['Max Rising Slope']]  # Multi-output labels"
   ]
  },
  {
   "cell_type": "code",
   "execution_count": 4,
   "metadata": {},
   "outputs": [],
   "source": [
    "# Initialize MinMaxScaler\n",
    "scaler_X = MinMaxScaler()\n",
    "scaler_Y = MinMaxScaler()\n",
    "\n",
    "# Scale the features and labels\n",
    "X_scaled = scaler_X.fit_transform(X)\n",
    "Y_scaled = scaler_Y.fit_transform(Y)"
   ]
  },
  {
   "cell_type": "code",
   "execution_count": 5,
   "metadata": {},
   "outputs": [],
   "source": [
    "# Save the **fitted** scalers using pickle after fitting (not the scaled data)\n",
    "with open('scaler_X.pkl', 'wb') as f:\n",
    "    pickle.dump(scaler_X, f)\n",
    "\n",
    "with open('scaler_Y.pkl', 'wb') as f:\n",
    "    pickle.dump(scaler_Y, f)"
   ]
  },
  {
   "cell_type": "code",
   "execution_count": 5,
   "metadata": {},
   "outputs": [],
   "source": [
    "# Split the dataset into train and test sets\n",
    "X_train, X_test, Y_train, Y_test = train_test_split(X_scaled, Y_scaled, test_size=0.1, random_state=42)"
   ]
  },
  {
   "cell_type": "code",
   "execution_count": 6,
   "metadata": {},
   "outputs": [],
   "source": [
    "# Define the custom callback to track R² score\n",
    "class R2ScoreCallback(Callback):\n",
    "    def __init__(self, X_val, Y_val):\n",
    "        self.X_val = X_val\n",
    "        self.Y_val = Y_val\n",
    "        self.r2_scores = []\n",
    "\n",
    "    def on_epoch_end(self, epoch, logs=None):\n",
    "        predictions = self.model.predict(self.X_val)  # Predict on validation set\n",
    "        predictions = scaler_Y.inverse_transform(predictions)  # Inverse transform predictions\n",
    "        Y_val_original = scaler_Y.inverse_transform(self.Y_val)  # Inverse transform actual values\n",
    "        r2 = r2_score(Y_val_original, predictions)  # Calculate R² score\n",
    "        self.r2_scores.append(r2)  # Save R² score\n",
    "        print(f\"Epoch {epoch+1}: R² score = {r2}\")"
   ]
  },
  {
   "cell_type": "code",
   "execution_count": 7,
   "metadata": {},
   "outputs": [],
   "source": [
    "# Instantiate the R² score callback\n",
    "r2_callback = R2ScoreCallback(X_test, Y_test)"
   ]
  },
  {
   "cell_type": "code",
   "execution_count": 8,
   "metadata": {},
   "outputs": [
    {
     "name": "stdout",
     "output_type": "stream",
     "text": [
      "WARNING:tensorflow:From d:\\Installation\\Anacondaa\\Lib\\site-packages\\keras\\src\\backend.py:873: The name tf.get_default_graph is deprecated. Please use tf.compat.v1.get_default_graph instead.\n",
      "\n"
     ]
    }
   ],
   "source": [
    "# Define the model\n",
    "model = Sequential()\n",
    "\n",
    "# Layer 0: 416 units, Tanh activation, 0.4 dropout\n",
    "model.add(Dense(608, activation='relu', input_shape=(X_train.shape[1],)))\n",
    "model.add(Dropout(0.4))\n",
    "\n",
    "# Layer 1: 768 units, Tanh activation, 0.5 dropout\n",
    "model.add(Dense(896, activation='tanh'))\n",
    "model.add(Dropout(0.4))\n",
    "\n",
    "# Layer 2: 96 units, ReLU activation, 0.2 dropout\n",
    "model.add(Dense(832, activation='tanh'))\n",
    "model.add(Dropout(0.4))\n",
    "\n",
    "# Layer 3: 768 units, Tanh activation, 0.5 dropout\n",
    "model.add(Dense(704, activation='relu'))\n",
    "model.add(Dropout(0.4))\n",
    "\n",
    "# Layer 4: 96 units, ReLU activation, 0.2 dropout\n",
    "model.add(Dense(288, activation='relu'))\n",
    "model.add(Dropout(0.2))\n",
    "\n",
    "# Output layer: Assuming this is a regression task with 1 output\n",
    "model.add(Dense(1))"
   ]
  },
  {
   "cell_type": "code",
   "execution_count": 9,
   "metadata": {},
   "outputs": [],
   "source": [
    "# Compile the model with Adam optimizer and the provided learning rate\n",
    "optimizer = Adam(learning_rate=0.0025281553292309227)\n",
    "model.compile(optimizer=optimizer, loss='mean_squared_error')"
   ]
  },
  {
   "cell_type": "code",
   "execution_count": 10,
   "metadata": {},
   "outputs": [
    {
     "name": "stdout",
     "output_type": "stream",
     "text": [
      "Epoch 1/50\n",
      "WARNING:tensorflow:From d:\\Installation\\Anacondaa\\Lib\\site-packages\\keras\\src\\utils\\tf_utils.py:492: The name tf.ragged.RaggedTensorValue is deprecated. Please use tf.compat.v1.ragged.RaggedTensorValue instead.\n",
      "\n",
      "1/1 [==============================] - 0s 151ms/steps: 1.40\n",
      "Epoch 1: R² score = -2.3895665661831234\n",
      "9/9 [==============================] - 3s 129ms/step - loss: 1.4051 - val_loss: 0.0915\n",
      "Epoch 2/50\n",
      "1/1 [==============================] - 0s 28ms/stepss: 0.13\n",
      "Epoch 2: R² score = -5.341141687367823\n",
      "9/9 [==============================] - 1s 60ms/step - loss: 0.1320 - val_loss: 0.1712\n",
      "Epoch 3/50\n",
      "1/1 [==============================] - 0s 74ms/stepss: 0.08\n",
      "Epoch 3: R² score = -1.7283589554023315\n",
      "9/9 [==============================] - 1s 70ms/step - loss: 0.0844 - val_loss: 0.0737\n",
      "Epoch 4/50\n",
      "1/1 [==============================] - 0s 27ms/stepss: 0.06\n",
      "Epoch 4: R² score = -2.553713038765795\n",
      "9/9 [==============================] - 0s 56ms/step - loss: 0.0657 - val_loss: 0.0959\n",
      "Epoch 5/50\n",
      "1/1 [==============================] - 0s 35ms/stepss: 0.06\n",
      "Epoch 5: R² score = -1.2664409635114304\n",
      "9/9 [==============================] - 0s 54ms/step - loss: 0.0630 - val_loss: 0.0612\n",
      "Epoch 6/50\n",
      "1/1 [==============================] - 0s 37ms/stepss: 0.05\n",
      "Epoch 6: R² score = -0.4976915153897463\n",
      "9/9 [==============================] - 1s 67ms/step - loss: 0.0501 - val_loss: 0.0404\n",
      "Epoch 7/50\n",
      "1/1 [==============================] - 0s 43ms/stepss: 0.05\n",
      "Epoch 7: R² score = -0.2894642677395791\n",
      "9/9 [==============================] - 1s 65ms/step - loss: 0.0582 - val_loss: 0.0348\n",
      "Epoch 8/50\n",
      "1/1 [==============================] - 0s 40ms/stepss: 0.05\n",
      "Epoch 8: R² score = -0.682002994059911\n",
      "9/9 [==============================] - 1s 63ms/step - loss: 0.0543 - val_loss: 0.0454\n",
      "Epoch 9/50\n",
      "1/1 [==============================] - 0s 31ms/stepss: 0.04\n",
      "Epoch 9: R² score = -0.41124480289311216\n",
      "9/9 [==============================] - 0s 52ms/step - loss: 0.0492 - val_loss: 0.0381\n",
      "Epoch 10/50\n",
      "1/1 [==============================] - 0s 36ms/stepss: 0.04\n",
      "Epoch 10: R² score = -0.23521433257483015\n",
      "9/9 [==============================] - 0s 57ms/step - loss: 0.0448 - val_loss: 0.0333\n",
      "Epoch 11/50\n",
      "1/1 [==============================] - 0s 46ms/stepss: 0.04\n",
      "Epoch 11: R² score = -0.2260501380314679\n",
      "9/9 [==============================] - 1s 62ms/step - loss: 0.0481 - val_loss: 0.0331\n",
      "Epoch 12/50\n",
      "1/1 [==============================] - 0s 32ms/stepss: 0.04\n",
      "Epoch 12: R² score = -0.2805712668607254\n",
      "9/9 [==============================] - 0s 54ms/step - loss: 0.0468 - val_loss: 0.0346\n",
      "Epoch 13/50\n",
      "1/1 [==============================] - 0s 52ms/stepss: 0.05\n",
      "Epoch 13: R² score = -0.5514223057540022\n",
      "9/9 [==============================] - 0s 58ms/step - loss: 0.0538 - val_loss: 0.0419\n",
      "Epoch 14/50\n",
      "1/1 [==============================] - 0s 43ms/stepss: 0.06\n",
      "Epoch 14: R² score = -0.3032424563137319\n",
      "9/9 [==============================] - 1s 65ms/step - loss: 0.0608 - val_loss: 0.0352\n",
      "Epoch 15/50\n",
      "1/1 [==============================] - 0s 72ms/stepss: 0.05\n",
      "Epoch 15: R² score = -0.34829327050919945\n",
      "9/9 [==============================] - 1s 64ms/step - loss: 0.0502 - val_loss: 0.0364\n",
      "Epoch 16/50\n",
      "1/1 [==============================] - 0s 25ms/stepss: 0.05\n",
      "Epoch 16: R² score = -0.5546766722013279\n",
      "9/9 [==============================] - 0s 55ms/step - loss: 0.0509 - val_loss: 0.0420\n",
      "Epoch 17/50\n",
      "1/1 [==============================] - 0s 29ms/stepss: 0.04\n",
      "Epoch 17: R² score = -0.2631852616858388\n",
      "9/9 [==============================] - 0s 53ms/step - loss: 0.0451 - val_loss: 0.0341\n",
      "Epoch 18/50\n",
      "1/1 [==============================] - 0s 25ms/stepss: 0.04\n",
      "Epoch 18: R² score = -0.4475425855094237\n",
      "9/9 [==============================] - 0s 53ms/step - loss: 0.0440 - val_loss: 0.0391\n",
      "Epoch 19/50\n",
      "1/1 [==============================] - 0s 36ms/stepss: 0.04\n",
      "Epoch 19: R² score = -0.3166950983286341\n",
      "9/9 [==============================] - 0s 54ms/step - loss: 0.0442 - val_loss: 0.0355\n",
      "Epoch 20/50\n",
      "1/1 [==============================] - 0s 35ms/stepss: 0.04\n",
      "Epoch 20: R² score = -0.5265321464085946\n",
      "9/9 [==============================] - 0s 58ms/step - loss: 0.0438 - val_loss: 0.0412\n",
      "Epoch 21/50\n",
      "1/1 [==============================] - 0s 55ms/stepss: 0.04\n",
      "Epoch 21: R² score = -0.29514989767504307\n",
      "9/9 [==============================] - 1s 68ms/step - loss: 0.0418 - val_loss: 0.0350\n",
      "Epoch 22/50\n",
      "1/1 [==============================] - 0s 75ms/stepss: 0.04\n",
      "Epoch 22: R² score = -0.4884176283735142\n",
      "9/9 [==============================] - 1s 70ms/step - loss: 0.0404 - val_loss: 0.0402\n",
      "Epoch 23/50\n",
      "1/1 [==============================] - 0s 70ms/stepss: 0.03\n",
      "Epoch 23: R² score = -0.4304792478076369\n",
      "9/9 [==============================] - 1s 69ms/step - loss: 0.0370 - val_loss: 0.0386\n",
      "Epoch 24/50\n",
      "1/1 [==============================] - 0s 33ms/stepss: 0.04\n",
      "Epoch 24: R² score = -0.48851752804019166\n",
      "9/9 [==============================] - 0s 54ms/step - loss: 0.0425 - val_loss: 0.0402\n",
      "Epoch 25/50\n",
      "1/1 [==============================] - 0s 43ms/stepss: 0.03\n",
      "Epoch 25: R² score = -0.8304057923334709\n",
      "9/9 [==============================] - 1s 60ms/step - loss: 0.0390 - val_loss: 0.0494\n",
      "Epoch 26/50\n",
      "1/1 [==============================] - 0s 25ms/stepss: 0.03\n",
      "Epoch 26: R² score = -0.5254769789873255\n",
      "9/9 [==============================] - 0s 56ms/step - loss: 0.0358 - val_loss: 0.0412\n",
      "Epoch 27/50\n",
      "1/1 [==============================] - 0s 36ms/stepss: 0.03\n",
      "Epoch 27: R² score = -0.3102036516049702\n",
      "9/9 [==============================] - 0s 59ms/step - loss: 0.0378 - val_loss: 0.0354\n",
      "Epoch 28/50\n",
      "1/1 [==============================] - 0s 49ms/stepss: 0.04\n",
      "Epoch 28: R² score = -0.28359703032142436\n",
      "9/9 [==============================] - 1s 62ms/step - loss: 0.0414 - val_loss: 0.0347\n",
      "Epoch 29/50\n",
      "1/1 [==============================] - 0s 61ms/stepss: 0.03\n",
      "Epoch 29: R² score = -0.5535232069050733\n",
      "9/9 [==============================] - 1s 59ms/step - loss: 0.0373 - val_loss: 0.0419\n",
      "Epoch 30/50\n",
      "1/1 [==============================] - 0s 26ms/stepss: 0.03\n",
      "Epoch 30: R² score = -0.3003570581730435\n",
      "9/9 [==============================] - 0s 54ms/step - loss: 0.0375 - val_loss: 0.0351\n",
      "Epoch 31/50\n",
      "1/1 [==============================] - 0s 33ms/stepss: 0.03\n",
      "Epoch 31: R² score = -0.48874111637179674\n",
      "9/9 [==============================] - 1s 68ms/step - loss: 0.0349 - val_loss: 0.0402\n",
      "Epoch 32/50\n",
      "1/1 [==============================] - 0s 27ms/stepss: 0.03\n",
      "Epoch 32: R² score = -0.4478648082229153\n",
      "9/9 [==============================] - 0s 52ms/step - loss: 0.0361 - val_loss: 0.0391\n",
      "Epoch 33/50\n",
      "1/1 [==============================] - 0s 44ms/stepss: 0.03\n",
      "Epoch 33: R² score = -0.4463217794991199\n",
      "9/9 [==============================] - 1s 65ms/step - loss: 0.0373 - val_loss: 0.0390\n",
      "Epoch 34/50\n",
      "1/1 [==============================] - 0s 23ms/stepss: 0.03\n",
      "Epoch 34: R² score = -0.3683375219054956\n",
      "9/9 [==============================] - 0s 56ms/step - loss: 0.0376 - val_loss: 0.0369\n",
      "Epoch 35/50\n",
      "1/1 [==============================] - 0s 34ms/stepss: 0.03\n",
      "Epoch 35: R² score = -0.33780836891001265\n",
      "9/9 [==============================] - 0s 55ms/step - loss: 0.0310 - val_loss: 0.0361\n",
      "Epoch 36/50\n",
      "1/1 [==============================] - 0s 33ms/stepss: 0.03\n",
      "Epoch 36: R² score = -0.5473244470922194\n",
      "9/9 [==============================] - 0s 59ms/step - loss: 0.0330 - val_loss: 0.0418\n",
      "Epoch 37/50\n",
      "1/1 [==============================] - 0s 69ms/stepss: 0.03\n",
      "Epoch 37: R² score = -0.9660765425628104\n",
      "9/9 [==============================] - 1s 69ms/step - loss: 0.0367 - val_loss: 0.0531\n",
      "Epoch 38/50\n",
      "1/1 [==============================] - 0s 36ms/stepss: 0.03\n",
      "Epoch 38: R² score = -0.2444918514571952\n",
      "9/9 [==============================] - 0s 58ms/step - loss: 0.0394 - val_loss: 0.0336\n",
      "Epoch 39/50\n",
      "1/1 [==============================] - 0s 27ms/stepss: 0.04\n",
      "Epoch 39: R² score = -0.11043447057372191\n",
      "9/9 [==============================] - 0s 56ms/step - loss: 0.0409 - val_loss: 0.0300\n",
      "Epoch 40/50\n",
      "1/1 [==============================] - 0s 36ms/stepss: 0.04\n",
      "Epoch 40: R² score = -0.23234847914702716\n",
      "9/9 [==============================] - 1s 63ms/step - loss: 0.0389 - val_loss: 0.0333\n",
      "Epoch 41/50\n",
      "1/1 [==============================] - 0s 45ms/stepss: 0.03\n",
      "Epoch 41: R² score = -0.4465580674994285\n",
      "9/9 [==============================] - 1s 60ms/step - loss: 0.0355 - val_loss: 0.0390\n",
      "Epoch 42/50\n",
      "1/1 [==============================] - 0s 27ms/stepss: 0.03\n",
      "Epoch 42: R² score = -0.46578533139584155\n",
      "9/9 [==============================] - 1s 65ms/step - loss: 0.0386 - val_loss: 0.0396\n",
      "Epoch 43/50\n",
      "1/1 [==============================] - 0s 35ms/stepss: 0.03\n",
      "Epoch 43: R² score = -0.29425213625432045\n",
      "9/9 [==============================] - 0s 57ms/step - loss: 0.0346 - val_loss: 0.0349\n",
      "Epoch 44/50\n",
      "1/1 [==============================] - 0s 76ms/stepss: 0.04\n",
      "Epoch 44: R² score = -0.27760891569731294\n",
      "9/9 [==============================] - 1s 71ms/step - loss: 0.0410 - val_loss: 0.0345\n",
      "Epoch 45/50\n",
      "1/1 [==============================] - 0s 27ms/stepss: 0.03\n",
      "Epoch 45: R² score = -0.20069384303680016\n",
      "9/9 [==============================] - 0s 55ms/step - loss: 0.0388 - val_loss: 0.0324\n",
      "Epoch 46/50\n",
      "1/1 [==============================] - 0s 45ms/stepss: 0.03\n",
      "Epoch 46: R² score = -0.2903344298877977\n",
      "9/9 [==============================] - 1s 64ms/step - loss: 0.0371 - val_loss: 0.0348\n",
      "Epoch 47/50\n",
      "1/1 [==============================] - 0s 30ms/stepss: 0.03\n",
      "Epoch 47: R² score = -0.6451847248905256\n",
      "9/9 [==============================] - 0s 53ms/step - loss: 0.0361 - val_loss: 0.0444\n",
      "Epoch 48/50\n",
      "1/1 [==============================] - 0s 43ms/stepss: 0.03\n",
      "Epoch 48: R² score = -0.49454316452247493\n",
      "9/9 [==============================] - 1s 61ms/step - loss: 0.0370 - val_loss: 0.0403\n",
      "Epoch 49/50\n",
      "1/1 [==============================] - 0s 25ms/stepss: 0.03\n",
      "Epoch 49: R² score = -0.4408673426921592\n",
      "9/9 [==============================] - 0s 54ms/step - loss: 0.0316 - val_loss: 0.0389\n",
      "Epoch 50/50\n",
      "1/1 [==============================] - 0s 32ms/stepss: 0.03\n",
      "Epoch 50: R² score = -0.45620740414029237\n",
      "9/9 [==============================] - 0s 58ms/step - loss: 0.0355 - val_loss: 0.0393\n"
     ]
    }
   ],
   "source": [
    "# Train the model and track history and R² score\n",
    "history = model.fit(X_train, Y_train, epochs=50, batch_size=32, validation_data=(X_test, Y_test),callbacks=[r2_callback])"
   ]
  },
  {
   "cell_type": "code",
   "execution_count": 11,
   "metadata": {},
   "outputs": [
    {
     "name": "stdout",
     "output_type": "stream",
     "text": [
      "1/1 [==============================] - 0s 70ms/step - loss: 0.0393\n",
      "Test loss: 0.03931036964058876\n"
     ]
    }
   ],
   "source": [
    "# Evaluate the model on the test set\n",
    "loss = model.evaluate(X_test, Y_test)\n",
    "print(f'Test loss: {loss}')"
   ]
  },
  {
   "cell_type": "code",
   "execution_count": 12,
   "metadata": {},
   "outputs": [
    {
     "name": "stdout",
     "output_type": "stream",
     "text": [
      "1/1 [==============================] - 0s 34ms/step\n"
     ]
    }
   ],
   "source": [
    "# Make predictions on the test set\n",
    "predictions_scaled = model.predict(X_test)\n",
    "\n",
    "# Inverse transform the predictions and actual values to get them back to the original scale\n",
    "predictions = scaler_Y.inverse_transform(predictions_scaled)\n",
    "Y_test_original = scaler_Y.inverse_transform(Y_test)"
   ]
  },
  {
   "cell_type": "code",
   "execution_count": 13,
   "metadata": {},
   "outputs": [
    {
     "name": "stdout",
     "output_type": "stream",
     "text": [
      "Predicted: [2.1278734], Actual: [2.27]\n",
      "Predicted: [2.1317587], Actual: [1.79]\n",
      "Predicted: [1.8962872], Actual: [2.22]\n",
      "Predicted: [2.259018], Actual: [1.83]\n",
      "Predicted: [1.7954346], Actual: [2.08]\n",
      "Predicted: [2.1522017], Actual: [2.4]\n",
      "Predicted: [2.0481954], Actual: [2.22]\n",
      "Predicted: [2.1411965], Actual: [1.72]\n",
      "Predicted: [2.064062], Actual: [2.26]\n",
      "Predicted: [2.1665401], Actual: [2.25]\n",
      "Predicted: [1.9389107], Actual: [1.5]\n",
      "Predicted: [2.1629446], Actual: [2.43]\n",
      "Predicted: [1.9649812], Actual: [2.77]\n",
      "Predicted: [1.8502415], Actual: [2.29]\n",
      "Predicted: [2.304482], Actual: [2.53]\n",
      "Predicted: [2.1437232], Actual: [1.93]\n",
      "Predicted: [2.0994167], Actual: [2.27]\n",
      "Predicted: [2.1572893], Actual: [2.37]\n",
      "Predicted: [2.0865197], Actual: [2.43]\n",
      "Predicted: [2.1018276], Actual: [2.57]\n"
     ]
    }
   ],
   "source": [
    "# Print a few predictions and actual values in their original (unscaled) form\n",
    "for i in range(20):\n",
    "    print(f\"Predicted: {predictions[i]}, Actual: {Y_test_original[i]}\")"
   ]
  },
  {
   "cell_type": "code",
   "execution_count": 14,
   "metadata": {},
   "outputs": [
    {
     "data": {
      "image/png": "[encoded data removed]",
      "text/plain": [
       "<Figure size 1000x500 with 1 Axes>"
      ]
     },
     "metadata": {},
     "output_type": "display_data"
    }
   ],
   "source": [
    "# Plot the loss curve (training and validation)\n",
    "plt.figure(figsize=(10, 5))\n",
    "plt.plot(history.history['loss'], label='Training Loss')\n",
    "plt.plot(history.history['val_loss'], label='Validation Loss')\n",
    "plt.title('Loss Curve')\n",
    "plt.xlabel('Epochs')\n",
    "plt.ylabel('Loss (MSE)')\n",
    "plt.legend()\n",
    "plt.show()"
   ]
  },
  {
   "cell_type": "code",
   "execution_count": 15,
   "metadata": {},
   "outputs": [
    {
     "data": {
      "image/png": "[encoded data removed]",
      "text/plain": [
       "<Figure size 1000x500 with 1 Axes>"
      ]
     },
     "metadata": {},
     "output_type": "display_data"
    }
   ],
   "source": [
    "# Plot the R² score curve for validation set\n",
    "plt.figure(figsize=(10, 5))\n",
    "plt.plot(r2_callback.r2_scores, label='Validation R² Score')\n",
    "plt.title('R² Score Curve')\n",
    "plt.xlabel('Epochs')\n",
    "plt.ylabel('R² Score')\n",
    "plt.legend()\n",
    "plt.show()"
   ]
  },
  {
   "cell_type": "code",
   "execution_count": null,
   "metadata": {},
   "outputs": [],
   "source": [
    "# Save the trained model to a file\n",
    "model_save_path = 'D:/aaaaaa/Max_Rising_Slope.h5'\n",
    "model.save(model_save_path)\n",
    "print(f\"Model saved to {model_save_path}\")"
   ]
  }
 ],
 "metadata": {
  "kernelspec": {
   "display_name": "Python 3",
   "language": "python",
   "name": "python3"
  },
  "language_info": {
   "codemirror_mode": {
    "name": "ipython",
    "version": 3
   },
   "file_extension": ".py",
   "mimetype": "text/x-python",
   "name": "python",
   "nbconvert_exporter": "python",
   "pygments_lexer": "ipython3",
   "version": "3.11.5"
  }
 },
 "nbformat": 4,
 "nbformat_minor": 2
}
