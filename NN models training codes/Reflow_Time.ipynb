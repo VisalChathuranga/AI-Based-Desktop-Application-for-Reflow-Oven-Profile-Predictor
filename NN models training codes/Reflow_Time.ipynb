{
 "cells": [
  {
   "cell_type": "code",
   "execution_count": 1,
   "metadata": {},
   "outputs": [
    {
     "name": "stdout",
     "output_type": "stream",
     "text": [
      "WARNING:tensorflow:From d:\\Installation\\Anacondaa\\Lib\\site-packages\\keras\\src\\losses.py:2976: The name tf.losses.sparse_softmax_cross_entropy is deprecated. Please use tf.compat.v1.losses.sparse_softmax_cross_entropy instead.\n",
      "\n"
     ]
    }
   ],
   "source": [
    "import matplotlib.pyplot as plt\n",
    "from sklearn.model_selection import train_test_split\n",
    "from tensorflow.keras.models import Sequential\n",
    "from tensorflow.keras.layers import Dense, Dropout\n",
    "from tensorflow.keras.optimizers import Adam\n",
    "from sklearn.preprocessing import MinMaxScaler,StandardScaler\n",
    "from sklearn.metrics import r2_score\n",
    "from tensorflow.keras.callbacks import Callback\n",
    "import pandas as pd\n",
    "import pickle"
   ]
  },
  {
   "cell_type": "code",
   "execution_count": 2,
   "metadata": {},
   "outputs": [],
   "source": [
    "file_path = 'D:/bla bla/exported_dataset_New.xlsx'\n",
    "df = pd.read_excel(file_path)"
   ]
  },
  {
   "cell_type": "code",
   "execution_count": 3,
   "metadata": {},
   "outputs": [],
   "source": [
    "# Prepare features (X) and labels (Y)\n",
    "X = df.drop(['Max Rising Slope', 'Soak Time', 'Reflow Time', 'Peak Temp'], axis=1)  # Drop target columns from features\n",
    "Y = df[['Reflow Time']]  # Multi-output labels"
   ]
  },
  {
   "cell_type": "code",
   "execution_count": 4,
   "metadata": {},
   "outputs": [],
   "source": [
    "# Initialize MinMaxScaler\n",
    "scaler_X = MinMaxScaler()\n",
    "scaler_Y = MinMaxScaler()\n",
    "\n",
    "# Scale the features and labels\n",
    "X_scaled = scaler_X.fit_transform(X)\n",
    "Y_scaled = scaler_Y.fit_transform(Y)"
   ]
  },
  {
   "cell_type": "code",
   "execution_count": 5,
   "metadata": {},
   "outputs": [],
   "source": [
    "with open('scaler_Y.pkl', 'wb') as f:\n",
    "    pickle.dump(scaler_Y, f)"
   ]
  },
  {
   "cell_type": "code",
   "execution_count": 5,
   "metadata": {},
   "outputs": [],
   "source": [
    "# Split the dataset into train and test sets\n",
    "X_train, X_test, Y_train, Y_test = train_test_split(X_scaled, Y_scaled, test_size=0.1, random_state=42)"
   ]
  },
  {
   "cell_type": "code",
   "execution_count": 6,
   "metadata": {},
   "outputs": [],
   "source": [
    "# Define the custom callback to track R² score\n",
    "class R2ScoreCallback(Callback):\n",
    "    def __init__(self, X_val, Y_val):\n",
    "        self.X_val = X_val\n",
    "        self.Y_val = Y_val\n",
    "        self.r2_scores = []\n",
    "\n",
    "    def on_epoch_end(self, epoch, logs=None):\n",
    "        predictions = self.model.predict(self.X_val)  # Predict on validation set\n",
    "        predictions = scaler_Y.inverse_transform(predictions)  # Inverse transform predictions\n",
    "        Y_val_original = scaler_Y.inverse_transform(self.Y_val)  # Inverse transform actual values\n",
    "        r2 = r2_score(Y_val_original, predictions)  # Calculate R² score\n",
    "        self.r2_scores.append(r2)  # Save R² score\n",
    "        print(f\"Epoch {epoch+1}: R² score = {r2}\")"
   ]
  },
  {
   "cell_type": "code",
   "execution_count": 7,
   "metadata": {},
   "outputs": [],
   "source": [
    "# Instantiate the R² score callback\n",
    "r2_callback = R2ScoreCallback(X_test, Y_test)"
   ]
  },
  {
   "cell_type": "code",
   "execution_count": 8,
   "metadata": {},
   "outputs": [
    {
     "name": "stdout",
     "output_type": "stream",
     "text": [
      "WARNING:tensorflow:From d:\\Installation\\Anacondaa\\Lib\\site-packages\\keras\\src\\backend.py:873: The name tf.get_default_graph is deprecated. Please use tf.compat.v1.get_default_graph instead.\n",
      "\n"
     ]
    }
   ],
   "source": [
    "model = Sequential()\n",
    "\n",
    "# Layer 0: 864 units, ReLU activation, 0.2 dropout\n",
    "model.add(Dense(864, activation='relu', input_shape=(X_train.shape[1],)))\n",
    "model.add(Dropout(0.2))\n",
    "\n",
    "# Layer 1: 256 units, Tanh activation, 0.4 dropout\n",
    "model.add(Dense(256, activation='tanh'))\n",
    "model.add(Dropout(0.4))\n",
    "\n",
    "# Layer 2: 736 units, ReLU activation, 0.4 dropout\n",
    "model.add(Dense(736, activation='relu'))\n",
    "model.add(Dropout(0.4))\n",
    "\n",
    "# Output layer for regression (1 output unit)\n",
    "model.add(Dense(1))"
   ]
  },
  {
   "cell_type": "code",
   "execution_count": 9,
   "metadata": {},
   "outputs": [],
   "source": [
    "# Compile the model with Adam optimizer and the provided learning rate\n",
    "optimizer = Adam(learning_rate=0.003813467045494337)\n",
    "model.compile(optimizer=optimizer, loss='mean_squared_error')"
   ]
  },
  {
   "cell_type": "code",
   "execution_count": 10,
   "metadata": {},
   "outputs": [
    {
     "name": "stdout",
     "output_type": "stream",
     "text": [
      "Epoch 1/50\n",
      "WARNING:tensorflow:From d:\\Installation\\Anacondaa\\Lib\\site-packages\\keras\\src\\utils\\tf_utils.py:492: The name tf.ragged.RaggedTensorValue is deprecated. Please use tf.compat.v1.ragged.RaggedTensorValue instead.\n",
      "\n",
      "1/1 [==============================] - 0s 100ms/steps: 0.984\n",
      "Epoch 1: R² score = -2.4934773864648005\n",
      "9/9 [==============================] - 3s 73ms/step - loss: 0.6915 - val_loss: 0.1576\n",
      "Epoch 2/50\n",
      "1/1 [==============================] - 0s 23ms/stepss: 0.04\n",
      "Epoch 2: R² score = -0.2974592476319393\n",
      "9/9 [==============================] - 0s 21ms/step - loss: 0.0436 - val_loss: 0.0585\n",
      "Epoch 3/50\n",
      "1/1 [==============================] - 0s 16ms/stepss: 0.02\n",
      "Epoch 3: R² score = 0.64445014342011\n",
      "9/9 [==============================] - 0s 22ms/step - loss: 0.0284 - val_loss: 0.0160\n",
      "Epoch 4/50\n",
      "1/1 [==============================] - 0s 16ms/stepss: 0.01\n",
      "Epoch 4: R² score = 0.5000758006180094\n",
      "9/9 [==============================] - 0s 22ms/step - loss: 0.0195 - val_loss: 0.0226\n",
      "Epoch 5/50\n",
      "1/1 [==============================] - 0s 31ms/stepss: 0.01\n",
      "Epoch 5: R² score = 0.6442396132148815\n",
      "9/9 [==============================] - 0s 25ms/step - loss: 0.0183 - val_loss: 0.0160\n",
      "Epoch 6/50\n",
      "1/1 [==============================] - 0s 16ms/stepss: 0.01\n",
      "Epoch 6: R² score = 0.515718677550628\n",
      "9/9 [==============================] - 0s 24ms/step - loss: 0.0167 - val_loss: 0.0218\n",
      "Epoch 7/50\n",
      "1/1 [==============================] - 0s 31ms/stepss: 0.01\n",
      "Epoch 7: R² score = 0.7031388114099882\n",
      "9/9 [==============================] - 0s 23ms/step - loss: 0.0173 - val_loss: 0.0134\n",
      "Epoch 8/50\n",
      "1/1 [==============================] - 0s 31ms/stepss: 0.01\n",
      "Epoch 8: R² score = 0.5700204868625729\n",
      "9/9 [==============================] - 0s 35ms/step - loss: 0.0190 - val_loss: 0.0194\n",
      "Epoch 9/50\n",
      "1/1 [==============================] - 0s 16ms/stepss: 0.01\n",
      "Epoch 9: R² score = 0.40323715287891415\n",
      "9/9 [==============================] - 0s 23ms/step - loss: 0.0209 - val_loss: 0.0269\n",
      "Epoch 10/50\n",
      "1/1 [==============================] - 0s 16ms/stepss: 0.01\n",
      "Epoch 10: R² score = 0.6877665405145932\n",
      "9/9 [==============================] - 0s 23ms/step - loss: 0.0175 - val_loss: 0.0141\n",
      "Epoch 11/50\n",
      "1/1 [==============================] - 0s 34ms/stepss: 0.01\n",
      "Epoch 11: R² score = 0.5598446318169901\n",
      "9/9 [==============================] - 0s 25ms/step - loss: 0.0170 - val_loss: 0.0199\n",
      "Epoch 12/50\n",
      "1/1 [==============================] - 0s 46ms/stepss: 0.01\n",
      "Epoch 12: R² score = 0.6436418418706589\n",
      "9/9 [==============================] - 0s 27ms/step - loss: 0.0170 - val_loss: 0.0161\n",
      "Epoch 13/50\n",
      "1/1 [==============================] - 0s 32ms/stepss: 0.01\n",
      "Epoch 13: R² score = 0.6436137695953639\n",
      "9/9 [==============================] - 0s 31ms/step - loss: 0.0165 - val_loss: 0.0161\n",
      "Epoch 14/50\n",
      "1/1 [==============================] - 0s 16ms/stepss: 0.01\n",
      "Epoch 14: R² score = 0.6998108823544051\n",
      "9/9 [==============================] - 0s 24ms/step - loss: 0.0169 - val_loss: 0.0135\n",
      "Epoch 15/50\n",
      "1/1 [==============================] - 0s 25ms/stepss: 0.01\n",
      "Epoch 15: R² score = 0.6346128578997183\n",
      "9/9 [==============================] - 0s 23ms/step - loss: 0.0172 - val_loss: 0.0165\n",
      "Epoch 16/50\n",
      "1/1 [==============================] - 0s 31ms/stepss: 0.01\n",
      "Epoch 16: R² score = 0.7300765822959217\n",
      "9/9 [==============================] - 0s 24ms/step - loss: 0.0157 - val_loss: 0.0122\n",
      "Epoch 17/50\n",
      "1/1 [==============================] - 0s 40ms/stepss: 0.01\n",
      "Epoch 17: R² score = 0.6506907818195538\n",
      "9/9 [==============================] - 0s 27ms/step - loss: 0.0145 - val_loss: 0.0158\n",
      "Epoch 18/50\n",
      "1/1 [==============================] - 0s 31ms/stepss: 0.01\n",
      "Epoch 18: R² score = 0.7320343537198374\n",
      "9/9 [==============================] - 0s 27ms/step - loss: 0.0145 - val_loss: 0.0121\n",
      "Epoch 19/50\n",
      "1/1 [==============================] - 0s 33ms/stepss: 0.01\n",
      "Epoch 19: R² score = 0.710001283657264\n",
      "9/9 [==============================] - 0s 27ms/step - loss: 0.0135 - val_loss: 0.0131\n",
      "Epoch 20/50\n",
      "1/1 [==============================] - 0s 39ms/stepss: 0.01\n",
      "Epoch 20: R² score = 0.6813881482288207\n",
      "9/9 [==============================] - 0s 30ms/step - loss: 0.0158 - val_loss: 0.0144\n",
      "Epoch 21/50\n",
      "1/1 [==============================] - 0s 31ms/stepss: 0.00\n",
      "Epoch 21: R² score = 0.6747552932361585\n",
      "9/9 [==============================] - 0s 23ms/step - loss: 0.0146 - val_loss: 0.0147\n",
      "Epoch 22/50\n",
      "1/1 [==============================] - 0s 79ms/stepss: 0.01\n",
      "Epoch 22: R² score = 0.7569011338444295\n",
      "9/9 [==============================] - 0s 34ms/step - loss: 0.0147 - val_loss: 0.0110\n",
      "Epoch 23/50\n",
      "1/1 [==============================] - 0s 31ms/stepss: 0.01\n",
      "Epoch 23: R² score = 0.74073016853181\n",
      "9/9 [==============================] - 0s 24ms/step - loss: 0.0151 - val_loss: 0.0117\n",
      "Epoch 24/50\n",
      "1/1 [==============================] - 0s 31ms/stepss: 0.01\n",
      "Epoch 24: R² score = 0.6809828081016325\n",
      "9/9 [==============================] - 0s 21ms/step - loss: 0.0149 - val_loss: 0.0144\n",
      "Epoch 25/50\n",
      "1/1 [==============================] - 0s 16ms/stepss: 0.01\n",
      "Epoch 25: R² score = 0.7567166759542138\n",
      "9/9 [==============================] - 0s 23ms/step - loss: 0.0157 - val_loss: 0.0110\n",
      "Epoch 26/50\n",
      "1/1 [==============================] - 0s 25ms/stepss: 0.01\n",
      "Epoch 26: R² score = 0.7434666124269629\n",
      "9/9 [==============================] - 0s 23ms/step - loss: 0.0146 - val_loss: 0.0116\n",
      "Epoch 27/50\n",
      "1/1 [==============================] - 0s 31ms/stepss: 0.01\n",
      "Epoch 27: R² score = 0.6634287169665998\n",
      "9/9 [==============================] - 0s 27ms/step - loss: 0.0167 - val_loss: 0.0152\n",
      "Epoch 28/50\n",
      "1/1 [==============================] - 0s 22ms/stepss: 0.01\n",
      "Epoch 28: R² score = 0.7638373315990445\n",
      "9/9 [==============================] - 0s 23ms/step - loss: 0.0142 - val_loss: 0.0107\n",
      "Epoch 29/50\n",
      "1/1 [==============================] - 0s 27ms/stepss: 0.01\n",
      "Epoch 29: R² score = 0.7150487579105993\n",
      "9/9 [==============================] - 0s 25ms/step - loss: 0.0136 - val_loss: 0.0129\n",
      "Epoch 30/50\n",
      "1/1 [==============================] - 0s 31ms/stepss: 0.01\n",
      "Epoch 30: R² score = 0.5701896586370955\n",
      "9/9 [==============================] - 0s 23ms/step - loss: 0.0145 - val_loss: 0.0194\n",
      "Epoch 31/50\n",
      "1/1 [==============================] - 0s 38ms/stepss: 0.01\n",
      "Epoch 31: R² score = 0.7432552040482092\n",
      "9/9 [==============================] - 0s 23ms/step - loss: 0.0156 - val_loss: 0.0116\n",
      "Epoch 32/50\n",
      "1/1 [==============================] - 0s 31ms/stepss: 0.02\n",
      "Epoch 32: R² score = 0.7317548065720226\n",
      "9/9 [==============================] - 0s 21ms/step - loss: 0.0136 - val_loss: 0.0121\n",
      "Epoch 33/50\n",
      "1/1 [==============================] - 0s 19ms/stepss: 0.01\n",
      "Epoch 33: R² score = 0.6902370130703713\n",
      "9/9 [==============================] - 0s 23ms/step - loss: 0.0138 - val_loss: 0.0140\n",
      "Epoch 34/50\n",
      "1/1 [==============================] - 0s 35ms/stepss: 0.01\n",
      "Epoch 34: R² score = 0.7219821517177263\n",
      "9/9 [==============================] - 0s 23ms/step - loss: 0.0129 - val_loss: 0.0125\n",
      "Epoch 35/50\n",
      "1/1 [==============================] - 0s 31ms/stepss: 0.01\n",
      "Epoch 35: R² score = 0.7658141764446206\n",
      "9/9 [==============================] - 0s 31ms/step - loss: 0.0138 - val_loss: 0.0106\n",
      "Epoch 36/50\n",
      "1/1 [==============================] - 0s 16ms/stepss: 0.01\n",
      "Epoch 36: R² score = 0.7766946906579375\n",
      "9/9 [==============================] - 0s 23ms/step - loss: 0.0130 - val_loss: 0.0101\n",
      "Epoch 37/50\n",
      "1/1 [==============================] - 0s 25ms/stepss: 0.01\n",
      "Epoch 37: R² score = 0.7696224215797354\n",
      "9/9 [==============================] - 0s 25ms/step - loss: 0.0131 - val_loss: 0.0104\n",
      "Epoch 38/50\n",
      "1/1 [==============================] - 0s 31ms/stepss: 0.01\n",
      "Epoch 38: R² score = 0.7584921357977461\n",
      "9/9 [==============================] - 0s 23ms/step - loss: 0.0139 - val_loss: 0.0109\n",
      "Epoch 39/50\n",
      "1/1 [==============================] - 0s 38ms/stepss: 0.01\n",
      "Epoch 39: R² score = 0.7674315384316147\n",
      "9/9 [==============================] - 0s 28ms/step - loss: 0.0128 - val_loss: 0.0105\n",
      "Epoch 40/50\n",
      "1/1 [==============================] - 0s 35ms/stepss: 0.01\n",
      "Epoch 40: R² score = 0.7594835424617095\n",
      "9/9 [==============================] - 0s 27ms/step - loss: 0.0140 - val_loss: 0.0108\n",
      "Epoch 41/50\n",
      "1/1 [==============================] - 0s 31ms/stepss: 0.01\n",
      "Epoch 41: R² score = 0.7127799732749632\n",
      "9/9 [==============================] - 0s 24ms/step - loss: 0.0134 - val_loss: 0.0130\n",
      "Epoch 42/50\n",
      "1/1 [==============================] - 0s 31ms/stepss: 0.01\n",
      "Epoch 42: R² score = 0.6542335346305643\n",
      "9/9 [==============================] - 0s 24ms/step - loss: 0.0130 - val_loss: 0.0156\n",
      "Epoch 43/50\n",
      "1/1 [==============================] - 0s 31ms/stepss: 0.01\n",
      "Epoch 43: R² score = 0.7746138476898633\n",
      "9/9 [==============================] - 0s 26ms/step - loss: 0.0139 - val_loss: 0.0102\n",
      "Epoch 44/50\n",
      "1/1 [==============================] - 0s 31ms/stepss: 0.01\n",
      "Epoch 44: R² score = 0.7975361098433866\n",
      "9/9 [==============================] - 0s 25ms/step - loss: 0.0137 - val_loss: 0.0091\n",
      "Epoch 45/50\n",
      "1/1 [==============================] - 0s 31ms/stepss: 0.01\n",
      "Epoch 45: R² score = 0.7693645468422141\n",
      "9/9 [==============================] - 0s 25ms/step - loss: 0.0135 - val_loss: 0.0104\n",
      "Epoch 46/50\n",
      "1/1 [==============================] - 0s 40ms/stepss: 0.01\n",
      "Epoch 46: R² score = 0.7306995944658325\n",
      "9/9 [==============================] - 0s 23ms/step - loss: 0.0144 - val_loss: 0.0121\n",
      "Epoch 47/50\n",
      "1/1 [==============================] - 0s 31ms/stepss: 0.01\n",
      "Epoch 47: R² score = 0.7883729222939648\n",
      "9/9 [==============================] - 0s 33ms/step - loss: 0.0123 - val_loss: 0.0095\n",
      "Epoch 48/50\n",
      "1/1 [==============================] - 0s 47ms/stepss: 0.01\n",
      "Epoch 48: R² score = 0.6784396920377784\n",
      "9/9 [==============================] - 0s 23ms/step - loss: 0.0127 - val_loss: 0.0145\n",
      "Epoch 49/50\n",
      "1/1 [==============================] - 0s 31ms/stepss: 0.01\n",
      "Epoch 49: R² score = 0.7703974629326288\n",
      "9/9 [==============================] - 0s 25ms/step - loss: 0.0127 - val_loss: 0.0104\n",
      "Epoch 50/50\n",
      "1/1 [==============================] - 0s 31ms/stepss: 0.01\n",
      "Epoch 50: R² score = 0.79993400752567\n",
      "9/9 [==============================] - 0s 22ms/step - loss: 0.0133 - val_loss: 0.0090\n"
     ]
    }
   ],
   "source": [
    "# Train the model and track history and R² score\n",
    "history = model.fit(X_train, Y_train, epochs=50, batch_size=32, validation_data=(X_test, Y_test),callbacks=[r2_callback])"
   ]
  },
  {
   "cell_type": "code",
   "execution_count": 11,
   "metadata": {},
   "outputs": [
    {
     "name": "stdout",
     "output_type": "stream",
     "text": [
      "1/1 [==============================] - 0s 33ms/step\n"
     ]
    }
   ],
   "source": [
    "# Make predictions on the test set\n",
    "predictions_scaled = model.predict(X_test)"
   ]
  },
  {
   "cell_type": "code",
   "execution_count": 12,
   "metadata": {},
   "outputs": [],
   "source": [
    "# Inverse transform the predictions and actual values to get them back to the original scale\n",
    "predictions = scaler_Y.inverse_transform(predictions_scaled)\n",
    "Y_test_original = scaler_Y.inverse_transform(Y_test)"
   ]
  },
  {
   "cell_type": "code",
   "execution_count": 13,
   "metadata": {},
   "outputs": [
    {
     "name": "stdout",
     "output_type": "stream",
     "text": [
      "Predicted: [47.00412], Actual: [42.74]\n",
      "Predicted: [46.985455], Actual: [49.74]\n",
      "Predicted: [69.214355], Actual: [66.44]\n",
      "Predicted: [45.232777], Actual: [37.65]\n",
      "Predicted: [76.25226], Actual: [83.88]\n",
      "Predicted: [47.126774], Actual: [49.01]\n",
      "Predicted: [45.305286], Actual: [42.98]\n",
      "Predicted: [46.23639], Actual: [52.91]\n",
      "Predicted: [44.275303], Actual: [42.9]\n",
      "Predicted: [44.841675], Actual: [38.05]\n",
      "Predicted: [48.94505], Actual: [51.61]\n",
      "Predicted: [43.810555], Actual: [45.15]\n",
      "Predicted: [48.093147], Actual: [57.17]\n",
      "Predicted: [46.377396], Actual: [41.71]\n",
      "Predicted: [45.366642], Actual: [38.97]\n",
      "Predicted: [43.845192], Actual: [43.66]\n",
      "Predicted: [46.075333], Actual: [42.74]\n",
      "Predicted: [43.15806], Actual: [40.3]\n",
      "Predicted: [47.12722], Actual: [45.16]\n",
      "Predicted: [45.152184], Actual: [54.27]\n"
     ]
    }
   ],
   "source": [
    "# Print a few predictions and actual values in their original (unscaled) form\n",
    "for i in range(20):\n",
    "    print(f\"Predicted: {predictions[i]}, Actual: {Y_test_original[i]}\")"
   ]
  },
  {
   "cell_type": "code",
   "execution_count": 14,
   "metadata": {},
   "outputs": [
    {
     "data": {
      "image/png": "[encoded data removed]",
      "text/plain": [
       "<Figure size 1000x500 with 1 Axes>"
      ]
     },
     "metadata": {},
     "output_type": "display_data"
    }
   ],
   "source": [
    "# Plot the loss curve (training and validation)\n",
    "plt.figure(figsize=(10, 5))\n",
    "plt.plot(history.history['loss'], label='Training Loss')\n",
    "plt.plot(history.history['val_loss'], label='Validation Loss')\n",
    "plt.title('Loss Curve')\n",
    "plt.xlabel('Epochs')\n",
    "plt.ylabel('Loss (MSE)')\n",
    "plt.legend()\n",
    "plt.show()"
   ]
  },
  {
   "cell_type": "code",
   "execution_count": 15,
   "metadata": {},
   "outputs": [
    {
     "data": {
      "image/png": "[encoded data removed]",
      "text/plain": [
       "<Figure size 1000x500 with 1 Axes>"
      ]
     },
     "metadata": {},
     "output_type": "display_data"
    }
   ],
   "source": [
    "# Plot the R² score curve for validation set\n",
    "plt.figure(figsize=(10, 5))\n",
    "plt.plot(r2_callback.r2_scores, label='Validation R² Score')\n",
    "plt.title('R² Score Curve')\n",
    "plt.xlabel('Epochs')\n",
    "plt.ylabel('R² Score')\n",
    "plt.legend()\n",
    "plt.show()"
   ]
  },
  {
   "cell_type": "code",
   "execution_count": 16,
   "metadata": {},
   "outputs": [
    {
     "name": "stdout",
     "output_type": "stream",
     "text": [
      "Model saved to D:/aaaaaa/Reflow_Time_2.h5\n"
     ]
    },
    {
     "name": "stderr",
     "output_type": "stream",
     "text": [
      "d:\\Installation\\Anacondaa\\Lib\\site-packages\\keras\\src\\engine\\training.py:3103: UserWarning: You are saving your model as an HDF5 file via `model.save()`. This file format is considered legacy. We recommend using instead the native Keras format, e.g. `model.save('my_model.keras')`.\n",
      "  saving_api.save_model(\n"
     ]
    }
   ],
   "source": [
    "# Save the trained model to a file\n",
    "model_save_path = 'D:/aaaaaa/Reflow_Time_2.h5'\n",
    "model.save(model_save_path)\n",
    "print(f\"Model saved to {model_save_path}\")"
   ]
  }
 ],
 "metadata": {
  "kernelspec": {
   "display_name": "Python 3",
   "language": "python",
   "name": "python3"
  },
  "language_info": {
   "codemirror_mode": {
    "name": "ipython",
    "version": 3
   },
   "file_extension": ".py",
   "mimetype": "text/x-python",
   "name": "python",
   "nbconvert_exporter": "python",
   "pygments_lexer": "ipython3",
   "version": "3.11.5"
  }
 },
 "nbformat": 4,
 "nbformat_minor": 2
}
